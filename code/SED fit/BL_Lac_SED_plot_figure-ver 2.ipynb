{
 "cells": [
  {
   "cell_type": "markdown",
   "id": "48f78d40-9ead-4de0-ac9b-5971bf7a37fd",
   "metadata": {},
   "source": [
    "# BL Lac SED plot figure (version 2)\n",
    "## using the lowest chi^2 and use the plotting parameters to plot figure"
   ]
  },
  {
   "cell_type": "code",
   "execution_count": 3,
   "id": "7fbd80ee-850b-42d9-8221-18e708eb7e4c",
   "metadata": {},
   "outputs": [],
   "source": [
    "# import numpy, astropy and matplotlib for basic functionalities\n",
    "import numpy as np\n",
    "import pkg_resources\n",
    "import pandas as pd\n",
    "from pathlib import Path\n",
    "import os, sys\n",
    "from astropy.constants import c\n",
    "from astropy.coordinates import Distance\n",
    "from astropy.table import Table\n",
    "import astropy.units as u\n",
    "import matplotlib.pyplot as plt\n",
    "#%matplotlib widget\n"
   ]
  },
  {
   "cell_type": "code",
   "execution_count": 9,
   "id": "e9722f6b-5484-41b8-8884-b20180fad309",
   "metadata": {},
   "outputs": [],
   "source": [
    "### 2023/4/13 comment: BL Lac with z measurement => PLOT SED first\n",
    "\n",
    "Table = pd.read_csv('/Users/87steven/Documents/ASIAA/Blazar SED code and data/data/BZCAT_Xmatch_ACC_list.csv')\n",
    "\n",
    "Table_name = Table['name'].values\n",
    "Table_class_type = Table['Class'].values\n",
    "Table_z = Table['z'].values\n",
    "    \n",
    "classnameall = []\n",
    "QSOind = []\n",
    "BL_Lac_can_ind = []\n",
    "BL_Lac_galaxy_dom_ind = []\n",
    "BL_Lac_ind = []\n",
    "Blazar_ind = []\n",
    "classclassify = [Blazar_ind, BL_Lac_can_ind, BL_Lac_galaxy_dom_ind, QSOind, BL_Lac_ind]\n",
    "classnameall  = [' Blazar Uncertain type', ' BL Lac Candidate', ' BL Lac-galaxy dominated', ' QSO RLoud flat radio sp.', ' BL Lac']\n",
    "    \n",
    "for j in range(0, 5): # 1367\n",
    "    classclassify[j] = np.where( Table_class_type == classnameall[j] )[0]\n",
    "    \n",
    "BL_Lac_index = []\n",
    "\n",
    "BL_Lac_index = np.hstack([np.array( classclassify[1] ), np.array( classclassify[2] ), np.array( classclassify[4] )])\n",
    "\n",
    "BL_Lac_z = Table_z[ BL_Lac_index ]\n",
    "\n",
    "index = BL_Lac_index[ BL_Lac_z != 0 ] # 93 BL Lac sources have z measurement\n",
    "\n"
   ]
  },
  {
   "cell_type": "code",
   "execution_count": null,
   "id": "5538e796-019a-48a7-9664-4a4731f03b4e",
   "metadata": {},
   "outputs": [],
   "source": [
    "### read in redshift information\n",
    "path = \"/Users/87steven/Downloads/2023_2_15 SED model fit/SED model fit parameters\"\n",
    "dir_list = os.listdir(path) \n",
    "dir_list.remove('.DS_Store')\n",
    "\n",
    "source_name = []\n",
    "for i in range(0, len(dir_list)): \n",
    "    source_name.append( dir_list[i][0:10] )\n",
    "\n",
    "for i in range(0, len(index)):   # len(BL_Lac_name)\n",
    "    #######################################################################################################\n",
    "    ### define test source name and set initial setting parameters\n",
    "    #######################################################################################################\n",
    "    #name = 'J1256-0547'\n",
    "    #name = 'J2337-5216'\n",
    "    #name = 'J0854+2006' # good source\n",
    "    name = Table_name[i]\n",
    "    \n",
    "    if os.path.exists( '/Users/87steven/Downloads/2023_2_15 SED model fit/SED model fit parameters/'+name+'_SED_model fit parameters.csv' ):\n",
    "        print('i = ', i, ', source name =', name)\n",
    "\n",
    "        ### create figure saving path\n",
    "        path2 = f'/Users/87steven/Documents/ASIAA/Blazar SED progress/SED model fit figures/'+ name +' SED model fit figure'\n",
    "        if not os.path.isdir(path2):\n",
    "            os.mkdir( path2 )\n",
    "\n",
    "        ### read in SED fitting result (chi_square value)\n",
    "        SED_result = pd.read_csv('/Users/87steven/Downloads/2023_2_15 SED model fit/SED model fit parameters/'+name+'_SED_model fit parameters.csv') \n",
    "\n",
    "        chi_squ = SED_result['chi_2'].values\n",
    "        index = np.where( chi_squ < np.ceil(min(chi_squ)) )[0]\n",
    "\n",
    "        ### read in source flux\n",
    "        source = pd.read_csv('/Users/87steven/Documents/ASIAA/Blazar SED code and data/source individual flux/' + name + '_flux.csv') \n",
    "\n",
    "        freq = source['freq'].values\n",
    "        flux = source['flux'].values\n",
    "        flux_err = source['flux_err'].values\n",
    "\n",
    "        ### set flux error which is nan to 0.01\n",
    "        flux_err[np.isnan(flux_err)] = 0.01\n",
    "        ### find flux index which is not nan\n",
    "        flux_NOTnan = np.where( (~np.isnan(flux)) & (flux > 0) )[0]\n",
    "        ### save new data into array\n",
    "        freq = freq[flux_NOTnan]\n",
    "        flux = flux[flux_NOTnan]\n",
    "        flux_err = flux_err[flux_NOTnan]\n",
    "\n",
    "        flux_err_correct = flux_err/0.434*flux\n",
    "\n",
    "        for k in range(0, len(index)):   # len(index)\n",
    "            print('plotting numer', k, '/', len(index))\n",
    "            ### read in SED plotting parameters\n",
    "            SED_plotting = pd.read_csv('/Users/87steven/Downloads/2023_2_15 SED model fit/SED model fit plotting parameters/'+name+' SED model fit/'+name+'_'+str(index[k])+'.csv') # # = 37671\n",
    "\n",
    "            fit_x = SED_plotting['fit_x'].values\n",
    "            fit_y = SED_plotting['fit_y'].values\n",
    "            syn_x = SED_plotting['syn_x'].values\n",
    "            syn_y =SED_plotting['syn_y'].values\n",
    "            ssc_x = SED_plotting['ssc_x'].values\n",
    "            ssc_y = SED_plotting['ssc_y'].values\n",
    "\n",
    "            plt.rcParams['figure.figsize'] = [10, 8]\n",
    "            plt.rcParams['axes.linewidth'] = 2\n",
    "\n",
    "            fig, ax = plt.subplots()\n",
    "\n",
    "            # plot data point\n",
    "            ax.errorbar(np.log10(freq), flux, yerr = flux_err_correct, marker = \"o\", color = \"black\", ecolor = \"black\", linestyle = '') \n",
    "            # plot model fit line\n",
    "            ax.plot(np.log10(fit_x), fit_y, '-', color = 'red')\n",
    "            #ax.plot(np.log10(fit_x), np.log10(fit_y), '-', color = color[i], label = 'Total SED')\n",
    "\n",
    "            # plot emission region\n",
    "            ax.plot(np.log10(syn_x+ssc_x), syn_y + ssc_y, '--', color = 'orange', label = 'Synchrotron+SSC')\n",
    "            ax.plot(np.log10(syn_x), syn_y, '--', color = 'blue', alpha = 0.5, label = 'Synchrotron')\n",
    "            ax.plot(np.log10(ssc_x), ssc_y, '--', color = 'green', alpha = 0.5, label = 'SSC')\n",
    "\n",
    "            ax.set_xlim (7, 29)\n",
    "            ax.set_ylim (min(flux)*1.0E-2, max(flux)*1.0E1) \n",
    "            plt.yscale('log')\n",
    "\n",
    "            plt.legend(loc = 'upper left', shadow = True, fontsize = 14, markerscale = 1) \n",
    "\n",
    "            plt.xlabel( \"log($\\\\nu$) [Hz]\",  fontsize = 16)\n",
    "            plt.xticks(fontsize = 16)\n",
    "            plt.ylabel('$\\\\nu$ F($\\\\nu$) [erg $\\mathrm{cm^{-2}\\ s^{-1}}$]',  fontsize = 16)\n",
    "            plt.yticks(fontsize = 16)\n",
    "            plt.grid(True)\n",
    "            figurename = name+' SED Fitting ($\\\\chi^2$ = %9.7E)' %(chi_squ[index[k]]) \n",
    "            plt.title(figurename, fontsize = 16)\n",
    "\n",
    "            # plotname = '/Users/87steven/Documents/ASIAA/Blazar SED progress/SED model fit figures/'+ name +' SED model fit figure/SED of '+ name + ' chi_squ = ' +str(chi_squ[index[k]]) + '.pdf'\n",
    "            # fig.savefig(plotname, bbox_inches = 'tight')\n",
    "\n",
    "        print('==========' + name +\" SED model fit figure produce complete ==========\")\n",
    "    else: \n",
    "        print('==========' + name +\" SED model fit file does not exist ==========\")\n"
   ]
  },
  {
   "cell_type": "code",
   "execution_count": null,
   "id": "4822ee20-7781-4047-b11c-2cc8d74b5cfe",
   "metadata": {},
   "outputs": [],
   "source": []
  },
  {
   "cell_type": "code",
   "execution_count": null,
   "id": "8de6d267-cbb9-4a06-9eaa-d608a1de00c6",
   "metadata": {},
   "outputs": [],
   "source": []
  },
  {
   "cell_type": "code",
   "execution_count": 11,
   "id": "0015f0c7-9886-4945-b499-0337784a6d4b",
   "metadata": {},
   "outputs": [],
   "source": [
    "### read in redshift information\n",
    "path = \"/Users/87steven/Downloads/2023_2_15 SED model fit/SED model fit parameters\"\n",
    "dir_list = os.listdir(path) \n",
    "dir_list.remove('.DS_Store')\n",
    "\n",
    "source_name = []\n",
    "for i in range(0, len(dir_list)): \n",
    "    source_name.append( dir_list[i][0:10] )\n",
    "\n",
    "for i in range(0, len(index)):   # len(BL_Lac_name)\n",
    "    #######################################################################################################\n",
    "    ### define test source name and set initial setting parameters\n",
    "    #######################################################################################################\n",
    "    #name = 'J1256-0547'\n",
    "    #name = 'J2337-5216'\n",
    "    #name = 'J0854+2006' # good source\n",
    "    name = 'J1256-1146'\n",
    "\n",
    "    SED_result = pd.read_csv('/Users/87steven/Downloads/2023_2_15 SED model fit/SED model fit parameters/'+name+'_SED_model fit parameters.csv') \n",
    "\n",
    "    chi_squ = SED_result['chi_2'].values\n",
    "    index = np.where( chi_squ < np.ceil(min(chi_squ)) )[0]\n",
    "    "
   ]
  },
  {
   "cell_type": "code",
   "execution_count": 24,
   "id": "c8158207-e439-4e4b-a716-54e742dcb3ff",
   "metadata": {},
   "outputs": [
    {
     "data": {
      "text/plain": [
       "(10.0, 16.0)"
      ]
     },
     "execution_count": 24,
     "metadata": {},
     "output_type": "execute_result"
    },
    {
     "data": {
      "image/png": "[encoded data removed]",
      "text/plain": [
       "<Figure size 576x432 with 1 Axes>"
      ]
     },
     "metadata": {
      "needs_background": "light"
     },
     "output_type": "display_data"
    }
   ],
   "source": [
    "median_chi = np.nanmedian( chi_squ )\n",
    "std_chi = np.nanstd( chi_squ )\n",
    "\n",
    "interval_plus = median_chi+3 #*std_chi\n",
    "interval_minus = median_chi-3 #*std_chi\n",
    "\n",
    "index = np.where( (interval_minus < chi_squ) & (chi_squ < interval_plus) )[0]\n",
    "\n",
    "plt.rcParams['figure.figsize'] = [8, 6]\n",
    "plt.rcParams['axes.linewidth'] = 3\n",
    "    \n",
    "fig, ax = plt.subplots()\n",
    "\n",
    "n, bins, p = plt.hist(chi_squ[index], bins = np.arange(0., max(chi_squ[index]) +0.1, 0.1), density = False,\n",
    "                                color = 'red', alpha = 0.5, rwidth = 0.85)\n",
    "# set maxximum value of y-axis = 1\n",
    "# for item in p:\n",
    "#     item.set_height(item.get_height()/sum(n))\n",
    "    \n",
    "ax.set_xlim(10, 16)\n",
    "# ax.set_ylim(0, 1)   \n"
   ]
  },
  {
   "cell_type": "code",
   "execution_count": 20,
   "id": "c1878d5b-427b-4e39-a37b-3da33fed92b6",
   "metadata": {},
   "outputs": [
    {
     "data": {
      "text/plain": [
       "16.141281155831447"
      ]
     },
     "execution_count": 20,
     "metadata": {},
     "output_type": "execute_result"
    }
   ],
   "source": [
    "max(chi_squ[index])"
   ]
  },
  {
   "cell_type": "code",
   "execution_count": null,
   "id": "7cbc29f4-06db-41d5-8e2b-29b60a3e1e1b",
   "metadata": {},
   "outputs": [],
   "source": []
  },
  {
   "cell_type": "code",
   "execution_count": null,
   "id": "38a52836-b3bf-46cf-b78b-e116d62de90b",
   "metadata": {},
   "outputs": [],
   "source": []
  },
  {
   "cell_type": "code",
   "execution_count": null,
   "id": "439f8cef-b046-4922-82df-97fb4e39e640",
   "metadata": {},
   "outputs": [],
   "source": []
  },
  {
   "cell_type": "code",
   "execution_count": null,
   "id": "7b80bfd6-7273-4099-b557-ef98eb4c037b",
   "metadata": {},
   "outputs": [],
   "source": []
  },
  {
   "cell_type": "code",
   "execution_count": null,
   "id": "1df31113-42a7-4874-a367-0328f8db77d2",
   "metadata": {},
   "outputs": [],
   "source": [
    "import pandas as pd\n",
    "import os, sys\n",
    "\n",
    "def ClearData():\n",
    "    data = {\n",
    "    'wavelength': [],\n",
    "    'flux': [],\n",
    "    }\n",
    "    return data\n",
    "\n",
    "path = '/Users/87steven/Downloads/dz/'\n",
    "\n",
    "dir_list = os.listdir(path) \n",
    "#dir_list.remove('.DS_Store')\n",
    "\n",
    "for i in range(0, len(dir_list)):   # len(dir_list)\n",
    "    df = ClearData()\n",
    "    print('file name: ', dir_list[i])\n",
    "    Table = pd.read_csv(path + dir_list[i], header = None)\n",
    "    \n",
    "    for k in range(0, len(Table[0])):\n",
    "        df['wavelength'].append( Table[0][k].split()[0] )\n",
    "        df['flux'].append( Table[0][k].split()[1] )\n",
    "\n",
    "    CSVfile = path + dir_list[i][:-4] + '.csv'   \n",
    "    dff = pd.DataFrame(df)      \n",
    "    dff.to_csv(CSVfile, index = False)\n",
    "    \n",
    "    print('done')"
   ]
  },
  {
   "cell_type": "code",
   "execution_count": null,
   "id": "ac065bf8-e6cf-407c-b698-2d50a4c4a88a",
   "metadata": {},
   "outputs": [],
   "source": []
  }
 ],
 "metadata": {
  "kernelspec": {
   "display_name": "Python 3 (ipykernel)",
   "language": "python",
   "name": "python3"
  },
  "language_info": {
   "codemirror_mode": {
    "name": "ipython",
    "version": 3
   },
   "file_extension": ".py",
   "mimetype": "text/x-python",
   "name": "python",
   "nbconvert_exporter": "python",
   "pygments_lexer": "ipython3",
   "version": "3.9.7"
  }
 },
 "nbformat": 4,
 "nbformat_minor": 5
}
