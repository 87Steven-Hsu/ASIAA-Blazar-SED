{
 "cells": [
  {
   "cell_type": "markdown",
   "metadata": {},
   "source": [
    "# Likelihood Analysis with Python"
   ]
  },
  {
   "cell_type": "markdown",
   "metadata": {},
   "source": [
    "The python likelihood tools are a very powerful set of analysis tools that expand upon the command line tools provided with the Fermi Science Tools package. Not only can you perform all of the same likelihood analysis with the python tools that you can with the standard command line tools but you can directly access all of the model parameters.  You can more easily script a standard analysis like light curve generation.  There are also a few things built into the python tools that are not available from the command line like the calculation of upper limits.\n",
    "\n",
    "There are many [user contributed packages](https://fermi.gsfc.nasa.gov/ssc/data/analysis/user/) built upon the python backbone of the Science Tools and we are going to highlight and use a few of them in this tutorial.\n",
    "\n",
    "This sample analysis will look at 2 years of data for the object 3C 279, which is a relatively birght example of a type of Active Galactic Nucleus (AGN) known as a blazar. At certain points we will refer to this article as well as the [Cicerone](https://fermi.gsfc.nasa.gov/ssc/data/analysis/documentation/Cicerone/). This tutorial is based on the \"[Binned Likelihood Tutorial](https://fermi.gsfc.nasa.gov/ssc/data/analysis/scitools/binned_likelihood_tutorial.html)\" Analysis Thread, which is hosted on the Fermi Science Support Center website. \n",
    "\n",
    "This tutorial assumes you have the most recent [ScienceTools](https://fermi.gsfc.nasa.gov/ssc/data/analysis/software/) installed. We will also make significant use of python, so you might want to familiarize yourself with python (there's a beginner's guide at http://wiki.python.org/moin/BeginnersGuide. This tutorial also assumes that you've gone through the non-python based [unbinned likelihood](https://fermi.gsfc.nasa.gov/ssc/data/analysis/scitools/likelihood_tutorial.html) thread. Running through this notebook should take several hours to complete (depending on your computer's speed) if you do everything but there are some steps you can skip along the way which would shorten that.\n",
    "\n",
    "> **Note:** This tutorial is generated from a [jupyter notebook](https://github.com/kialio/FSSC-Docs/blob/master/Threads/Python/python_tutorial.ipynb) which you can download and run yourself (the prefereed method). You can also run individual commands listed on this page.  If you do that, be aware that some commands must be executed in an ipython/jupyter environment."
   ]
  },
  {
   "cell_type": "markdown",
   "metadata": {},
   "source": [
    "## Get the Data\n",
    "\n",
    "For this thread the original data were extracted from the [LAT data server](https://fermi.gsfc.nasa.gov/cgi-bin/ssc/LAT/LATDataQuery.cgi) with the following selections (these selections are similar to those in the paper):\n",
    "\n",
    "* Search Center (RA,Dec) = (193.98, -5.82)\n",
    "* Radius = 15 degrees\n",
    "* Start Time (MET) = 239557417 seconds (2008-08-04 T15:43:37)\n",
    "* Stop Time (MET) = 302572802 seconds (2010-08-04 T00:00:00)\n",
    "* Minimum Energy = 100 MeV\n",
    "* Maximum Energy = 500000 MeV\n",
    "\n",
    "We've provided direct links to the event files as well as the spacecraft data file if you don't want to take the time to use the download server. For more information on how to download LAT data please see the [Extract LAT Data](https://fermi.gsfc.nasa.gov/ssc/data/analysis/scitools/explore_latdata.html) tutorial.\n",
    "\n",
    "* [L181126210218F4F0ED2738_PH00.fits](https://fermi.gsfc.nasa.gov/ssc/data/analysis/scitools/data/BinnedLikelihood/L181126210218F4F0ED2738_PH00.fits)\n",
    "* [L181126210218F4F0ED2738_PH01.fits](https://fermi.gsfc.nasa.gov/ssc/data/analysis/scitools/data/BinnedLikelihood/L181126210218F4F0ED2738_PH01.fits)\n",
    "* [L181126210218F4F0ED2738_PH02.fits](https://fermi.gsfc.nasa.gov/ssc/data/analysis/scitools/data/BinnedLikelihood/L181126210218F4F0ED2738_PH02.fits)\n",
    "* [L181126210218F4F0ED2738_PH03.fits](https://fermi.gsfc.nasa.gov/ssc/data/analysis/scitools/data/BinnedLikelihood/L181126210218F4F0ED2738_PH03.fits)\n",
    "* [L181126210218F4F0ED2738_PH04.fits](https://fermi.gsfc.nasa.gov/ssc/data/analysis/scitools/data/BinnedLikelihood/L181126210218F4F0ED2738_PH04.fits)\n",
    "* [L181126210218F4F0ED2738_PH05.fits](https://fermi.gsfc.nasa.gov/ssc/data/analysis/scitools/data/BinnedLikelihood/L181126210218F4F0ED2738_PH05.fits)\n",
    "* [L181126210218F4F0ED2738_PH06.fits](https://fermi.gsfc.nasa.gov/ssc/data/analysis/scitools/data/BinnedLikelihood/L181126210218F4F0ED2738_PH06.fits)\n",
    "* [L181126210218F4F0ED2738_SC00.fits](https://fermi.gsfc.nasa.gov/ssc/data/analysis/scitools/data/BinnedLikelihood/L181126210218F4F0ED2738_SC00.fits)\n",
    "\n",
    "Make a working directory and then download all of the files into that directory."
   ]
  },
  {
   "cell_type": "code",
   "execution_count": 1,
   "metadata": {},
   "outputs": [],
   "source": [
    "!mkdir working\n",
    "\n"
   ]
  },
  {
   "cell_type": "code",
   "execution_count": 5,
   "metadata": {},
   "outputs": [],
   "source": [
    "import urllib.request\n",
    "\n"
   ]
  },
  {
   "cell_type": "code",
   "execution_count": 6,
   "metadata": {},
   "outputs": [],
   "source": [
    "url_base = \"/Users/87steven/Documents/ASIAA/Blazar SED code and data/Fermi all-sky survey data/J0001-1551/\"\n",
    "\n",
    "datafiles = [\"L221124084908FC8CDD7386_PH00.fits\", \n",
    "             \"L221124084908FC8CDD7386_PH01.fits\"]\n",
    "\n"
   ]
  },
  {
   "cell_type": "code",
   "execution_count": null,
   "metadata": {},
   "outputs": [],
   "source": [
    "for datafile in datafiles:\n",
    "    urllib.request.urlretrieve(url_base + datafile, \"working/\" + datafile)\n",
    "    \n"
   ]
  },
  {
   "cell_type": "code",
   "execution_count": null,
   "metadata": {},
   "outputs": [],
   "source": []
  },
  {
   "cell_type": "code",
   "execution_count": 8,
   "metadata": {},
   "outputs": [
    {
     "name": "stdout",
     "output_type": "stream",
     "text": [
      "ls: working/: No such file or directory\n"
     ]
    }
   ],
   "source": [
    "ls working/\n",
    "\n"
   ]
  },
  {
   "cell_type": "markdown",
   "metadata": {},
   "source": [
    "Now, you'll first need to make a file list with the names of your input event files:"
   ]
  },
  {
   "cell_type": "code",
   "execution_count": 6,
   "metadata": {},
   "outputs": [],
   "source": [
    "ls -1 working/*PH*.fits > binned_events.txt\n",
    "\n"
   ]
  },
  {
   "cell_type": "markdown",
   "metadata": {},
   "source": [
    "We can rename the spacecraft file to make it easier to work with:"
   ]
  },
  {
   "cell_type": "code",
   "execution_count": 7,
   "metadata": {},
   "outputs": [],
   "source": [
    "mv working/L181126210218F4F0ED2738_SC00.fits working/3C279_SC.fits\n",
    "\n"
   ]
  },
  {
   "cell_type": "markdown",
   "metadata": {},
   "source": [
    "In the following analysis we've assumed that you've named your list of data files binned_events.list and the spacecraft file 3C279_SC.fits."
   ]
  },
  {
   "cell_type": "code",
   "execution_count": 8,
   "metadata": {},
   "outputs": [
    {
     "name": "stdout",
     "output_type": "stream",
     "text": [
      "2022年12月 3日 週六 15時36分35秒 CST\n"
     ]
    }
   ],
   "source": [
    "#Let's get a timestamp, so we can see how long this takes to run on your machine.\n",
    "!date\n",
    "\n"
   ]
  },
  {
   "cell_type": "markdown",
   "metadata": {},
   "source": [
    "## Perform Event Selections"
   ]
  },
  {
   "cell_type": "markdown",
   "metadata": {},
   "source": [
    "The gt_apps module provides methods to call the various FermiTools from within python. "
   ]
  },
  {
   "cell_type": "code",
   "execution_count": 9,
   "metadata": {},
   "outputs": [],
   "source": [
    "import gt_apps as my_apps\n",
    "\n"
   ]
  },
  {
   "cell_type": "markdown",
   "metadata": {},
   "source": [
    "The python object for gtselect is called filter and we first need to set all of its options. It might not seem that convenient to do it this way (as opposed to entering the options via the command line) but it's really nice once you start building up scripts and reading back options and such. For example, generating a light curve entails running the likelihood analysis for each datapoint. It'll be much easier to do all of that within python and change the tmin and tmax in an iterative fashion. Note that these python objects are just wrappers for the standalone tools so if you want any information on their options, see the corresponding [documentation](/ssc/data/analysis/scitools/references.html) for the standalone tool."
   ]
  },
  {
   "cell_type": "code",
   "execution_count": 25,
   "metadata": {},
   "outputs": [],
   "source": [
    "RA = 329.716958\n",
    "DEC = -30.225578\n",
    "emin = 100\n",
    "emax = 500000\n",
    "energy_bin_num = 37\n",
    "z_max = 90\n"
   ]
  },
  {
   "cell_type": "code",
   "execution_count": 10,
   "metadata": {},
   "outputs": [],
   "source": [
    "### gt filters (done)\n",
    "\n",
    "my_apps.filter['evclass'] = 128\n",
    "my_apps.filter['evtype'] = 3\n",
    "my_apps.filter['ra'] = 'INDEF'\n",
    "my_apps.filter['dec'] = 'INDEF'\n",
    "my_apps.filter['rad'] = 'INDEF'\n",
    "my_apps.filter['emin'] = emin\n",
    "my_apps.filter['emax'] = emax\n",
    "my_apps.filter['zmax'] = z_max\n",
    "my_apps.filter['tmin'] = 'INDEF'\n",
    "my_apps.filter['tmax'] = 'INDEF'\n",
    "my_apps.filter['infile'] = '@binned_events.txt'\n",
    "my_apps.filter['outfile'] = 'working/3C279_binned_filtered.fits'\n",
    "\n"
   ]
  },
  {
   "cell_type": "markdown",
   "metadata": {},
   "source": [
    "Now, run gtselect:"
   ]
  },
  {
   "cell_type": "code",
   "execution_count": 2,
   "metadata": {},
   "outputs": [
    {
     "name": "stdout",
     "output_type": "stream",
     "text": [
      "time -p gtselect infile=/Users/87steven/Documents/ASIAA/Blazar SED code and data/Fermi_all_sky_survey_data/J0001-1551/events.txt outfile=/Users/87steven/Documents/ASIAA/Blazar SED code and data/Fermi_all_sky_survey_data/J0001-1551/filtered.fits ra=0.272042 dec=-15.851939 rad=1.0 tmin=\"INDEF\" tmax=\"INDEF\" emin=100.0 emax=300000.0 zmin=0.0 zmax=90.0 evclass=\"INDEF\" evtype=\"INDEF\" convtype=-1 phasemin=0.0 phasemax=1.0 evtable=\"EVENTS\" chatter=2 clobber=yes debug=no gui=no mode=\"ql\"\n",
      "Parameter \"infile\" duplicated on command line.\n",
      "Parameter \"infile\" duplicated on command line.\n",
      "Caught N5hoops12ApeExceptionE at the top level: Cannot open parameter file for gtselect; Ape exception code 19 (at /Users/runner/miniforge3/conda-bld/fermitools_1655479516925/work/src/hoops/src/hoops_ape.cxx: 435)\n"
     ]
    },
    {
     "ename": "RuntimeError",
     "evalue": "gtselect execution failed",
     "output_type": "error",
     "traceback": [
      "\u001b[0;31m---------------------------------------------------------------------------\u001b[0m",
      "\u001b[0;31mRuntimeError\u001b[0m                              Traceback (most recent call last)",
      "Cell \u001b[0;32mIn [2], line 1\u001b[0m\n\u001b[0;32m----> 1\u001b[0m \u001b[43mmy_apps\u001b[49m\u001b[38;5;241;43m.\u001b[39;49m\u001b[43mfilter\u001b[49m\u001b[38;5;241;43m.\u001b[39;49m\u001b[43mrun\u001b[49m\u001b[43m(\u001b[49m\u001b[43m)\u001b[49m\n",
      "File \u001b[0;32m/opt/anaconda3/envs/fermi/lib/python3.9/site-packages/fermitools/GtApp.py:76\u001b[0m, in \u001b[0;36mGtApp.run\u001b[0;34m(self, print_command, catchError, dry_run, **kwds)\u001b[0m\n\u001b[1;32m     74\u001b[0m         \u001b[38;5;28minput\u001b[39m\u001b[38;5;241m.\u001b[39mclose()\n\u001b[1;32m     75\u001b[0m         output\u001b[38;5;241m.\u001b[39mclose()\n\u001b[0;32m---> 76\u001b[0m         \u001b[38;5;28;01mraise\u001b[39;00m \u001b[38;5;167;01mRuntimeError\u001b[39;00m (\u001b[38;5;28mself\u001b[39m\u001b[38;5;241m.\u001b[39mappName \u001b[38;5;241m+\u001b[39m \u001b[38;5;124m\"\u001b[39m\u001b[38;5;124m execution failed\u001b[39m\u001b[38;5;124m\"\u001b[39m)\n\u001b[1;32m     77\u001b[0m \u001b[38;5;28minput\u001b[39m\u001b[38;5;241m.\u001b[39mclose()\n\u001b[1;32m     78\u001b[0m output\u001b[38;5;241m.\u001b[39mclose()\n",
      "\u001b[0;31mRuntimeError\u001b[0m: gtselect execution failed"
     ]
    }
   ],
   "source": [
    "my_apps.filter.run()\n",
    "\n"
   ]
  },
  {
   "cell_type": "markdown",
   "metadata": {},
   "source": [
    "Next, you need to run gtmktime. This is accessed within python via the maketime object:"
   ]
  },
  {
   "cell_type": "code",
   "execution_count": 12,
   "metadata": {},
   "outputs": [
    {
     "name": "stdout",
     "output_type": "stream",
     "text": [
      "time -p gtmktime scfile=working/3C279_SC.fits sctable=\"SC_DATA\" filter=\"(DATA_QUAL>0)&&(LAT_CONFIG==1)\" roicut=no evfile=working/3C279_binned_filtered.fits evtable=\"EVENTS\" outfile=\"working/3C279_binned_gti.fits\" apply_filter=yes overwrite=no header_obstimes=yes tstart=0.0 tstop=0.0 gtifile=\"default\" chatter=2 clobber=yes debug=no gui=no mode=\"ql\"\n",
      "real 21.44\n",
      "user 20.43\n",
      "sys 0.76\n"
     ]
    }
   ],
   "source": [
    "### gt maketime (done)\n",
    "\n",
    "my_apps.maketime['scfile'] = 'working/3C279_SC.fits'\n",
    "my_apps.maketime['filter'] = '(DATA_QUAL>0) && (LAT_CONFIG==1)'\n",
    "my_apps.maketime['roicut'] = 'no'\n",
    "my_apps.maketime['evfile'] = 'working/3C279_binned_filtered.fits'\n",
    "my_apps.maketime['outfile'] = 'working/3C279_binned_gti.fits'\n",
    "my_apps.maketime.run()\n",
    "\n"
   ]
  },
  {
   "cell_type": "markdown",
   "metadata": {},
   "source": [
    "We're using the most conservative and most commonly used cuts described in detail in the [Cicerone](http://fermi.gsfc.nasa.gov/ssc/data/analysis/documentation/Cicerone/Cicerone_Likelihood/Exposure.html)."
   ]
  },
  {
   "cell_type": "markdown",
   "metadata": {},
   "source": [
    "## Create a 3-D (binned) counts map"
   ]
  },
  {
   "cell_type": "markdown",
   "metadata": {},
   "source": [
    "For binned likelihood analysis, the data input is a three-dimensional counts map with an energy axis, called a counts cube. The gtbin tool performs this task as well, by using the CCUBE option.data_path = '/Users/87steven/Documents/ASIAA/Blazar SED code and data/Fermi_all_sky_survey_data/J0001-1551'\n",
    "\n",
    "import gt_apps as my_apps\n",
    "from gt_apps import counts_map\n",
    "import shutil\n",
    "from os import listdir\n",
    "from GtApp import GtApp\n",
    "import urllib.request"
   ]
  },
  {
   "cell_type": "code",
   "execution_count": 26,
   "metadata": {},
   "outputs": [],
   "source": [
    "\n",
    "import gt_apps as my_apps\n",
    "from gt_apps import counts_map\n",
    "import shutil\n",
    "from os import listdir\n",
    "from GtApp import GtApp\n",
    "import urllib.request\n",
    "\n",
    "RA = 329.716958\n",
    "DEC = -30.225578\n",
    "emin = 100\n",
    "emax = 500000\n",
    "energy_bin_num = 37\n",
    "z_max = 90\n",
    "\n"
   ]
  },
  {
   "cell_type": "code",
   "execution_count": 27,
   "metadata": {},
   "outputs": [
    {
     "name": "stdout",
     "output_type": "stream",
     "text": [
      "time -p gtbin evfile= '/Users/87steven/Documents/ASIAA/Blazar SED code and data/Fermi_all_sky_survey_data/J2158-3013/binned_gti.fits'  scfile=none outfile= '/Users/87steven/Documents/ASIAA/Blazar SED code and data/Fermi_all_sky_survey_data/J2158-3013/binned_ccube.fits'  algorithm=\"CCUBE\" ebinalg=\"LOG\" emin=100.0 emax=500000.0 enumbins=37 denergy=0.0 ebinfile=NONE tbinalg=\"LIN\" tstart=0.0 tstop=0.0 dtime=0.0 tbinfile=NONE snratio=0.0 lcemin=0.0 lcemax=0.0 nxpix=100 nypix=100 binsz=0.2 coordsys=\"CEL\" xref=329.716958 yref=-30.225578 axisrot=0.0 rafield=\"RA\" decfield=\"DEC\" proj=\"AIT\" hpx_ordering_scheme=\"RING\" hpx_order=3 hpx_ebin=yes hpx_region=\"\" evtable=\"EVENTS\" sctable=\"SC_DATA\" efield=\"ENERGY\" tfield=\"TIME\" chatter=2 clobber=yes debug=no gui=no mode=\"ql\"\n",
      "This is gtbin version HEAD\n",
      "gtbin: WARNING: No spacecraft file: EXPOSURE keyword will be set equal to ontime.\n",
      "real 0.22\n",
      "user 0.14\n",
      "sys 0.02\n"
     ]
    }
   ],
   "source": [
    "### start from here\n",
    "\n",
    "data_path = '/Users/87steven/Documents/ASIAA/Blazar SED code and data/Fermi_all_sky_survey_data/J2158-3013'\n",
    "\n",
    "scfile = \" '\" + data_path + \"/SC00.fits' \"\n",
    "evfile = \" '\" + data_path + \"/binned_gti.fits' \"\n",
    "outfile = \" '\" + data_path + \"/binned_ccube.fits' \"\n",
    "\n",
    "### gt count maps\n",
    "my_apps.counts_map['algorithm'] = 'CCUBE'\n",
    "my_apps.counts_map['evfile'] = evfile\n",
    "my_apps.counts_map['scfile'] = 'none'\n",
    "my_apps.counts_map['outfile'] = outfile\n",
    "my_apps.counts_map['nxpix'] = 100\n",
    "my_apps.counts_map['nypix'] = 100\n",
    "my_apps.counts_map['binsz'] = 0.2\n",
    "my_apps.counts_map['coordsys'] = 'CEL'\n",
    "my_apps.counts_map['xref'] = RA   # RA\n",
    "my_apps.counts_map['yref'] = DEC   # DEC\n",
    "my_apps.counts_map['axisrot'] = 0\n",
    "my_apps.counts_map['proj'] = 'AIT'\n",
    "my_apps.counts_map['ebinalg'] = 'LOG'\n",
    "my_apps.counts_map['emin'] = emin\n",
    "my_apps.counts_map['emax'] = emax\n",
    "my_apps.counts_map['enumbins'] = energy_bin_num\n",
    "\n",
    "my_apps.counts_map.run()\n",
    "\n"
   ]
  },
  {
   "cell_type": "markdown",
   "metadata": {},
   "source": [
    "## Livetime Cubes and Exposure Maps\n",
    "\n",
    "The next two steps pre-compute the livetime over the whole sky and the exposure map over your are of intere, respectively. Doing this in advance of running the likelihood tool will save a significant amount of time when running the gtlike task itself. This can be usefull if you wish to re-do the likelihood analysis multiple times (after, say, adjusting the model inputs or trying out different fitting algorithms). So, let's go ahead and do these \"extra\" steps.\n",
    "\n",
    "### Livetime Cube\n",
    "\n",
    "We can pre-compute the livetime as a function of sky position and off-axis angle, which will speed up the likelihood analysis. This step will take approximately 30 minutes to complete, so this may be a good time to respond to that email you've been thinking about."
   ]
  },
  {
   "cell_type": "code",
   "execution_count": 28,
   "metadata": {},
   "outputs": [
    {
     "name": "stdout",
     "output_type": "stream",
     "text": [
      "time -p gtltcube evfile=\"/Users/87steven/Documents/ASIAA/Blazar SED code and data/Fermi_all_sky_survey_data/J2158-3013/binned_gti.fits\" evtable=\"EVENTS\" scfile= '/Users/87steven/Documents/ASIAA/Blazar SED code and data/Fermi_all_sky_survey_data/J2158-3013/SC00.fits'  sctable=\"SC_DATA\" outfile= '/Users/87steven/Documents/ASIAA/Blazar SED code and data/Fermi_all_sky_survey_data/J2158-3013/ltcube.fits'  dcostheta=0.025 binsz=1.0 phibins=0 tmin=0.0 tmax=0.0 file_version=\"1\" zmin=0.0 zmax=90.0 chatter=2 clobber=yes debug=no gui=no mode=\"ql\"\n",
      "Working on file /Users/87steven/Documents/ASIAA/Blazar SED code and data/Fermi_all_sky_survey_data/J2158-3013/SC00.fits\n",
      ".....................!\n",
      "real 266.43\n",
      "user 265.32\n",
      "sys 0.74\n"
     ]
    }
   ],
   "source": [
    "evfile = data_path + \"/binned_gti.fits\"\n",
    "scfile = \" '\" + data_path + \"/SC00.fits' \"\n",
    "outfile = \" '\" + data_path + \"/ltcube.fits' \"\n",
    "\n",
    "### gt exp Cube\n",
    "my_apps.expCube['evfile'] = evfile\n",
    "my_apps.expCube['scfile'] = scfile\n",
    "my_apps.expCube['outfile'] = outfile\n",
    "my_apps.expCube['zmax'] = 90\n",
    "my_apps.expCube['dcostheta'] = 0.025\n",
    "my_apps.expCube['binsz'] = 1\n",
    "my_apps.expCube.run()\n",
    "\n"
   ]
  },
  {
   "cell_type": "markdown",
   "metadata": {},
   "source": [
    "### Exposure Map"
   ]
  },
  {
   "cell_type": "markdown",
   "metadata": {},
   "source": [
    "This next step will apply the livetime calculated in the previous step to your region of interest. This tool generates a binned exposure map, an accounting of the exposure at each position in the sky, that are a required input to the likelihood process. \n",
    "\n",
    "The LAT has a very large Point Spread Function (PSF), especially at low energies. In order to account for contributions from sources outside our ROI we need to make the exposure map cover a larger area on the sky, equal to the ROI plus 10 degrees."
   ]
  },
  {
   "cell_type": "code",
   "execution_count": 29,
   "metadata": {},
   "outputs": [],
   "source": [
    "### create model file\n",
    "expCube2 = GtApp('gtexpcube2', 'Likelihood')\n"
   ]
  },
  {
   "cell_type": "code",
   "execution_count": 30,
   "metadata": {},
   "outputs": [
    {
     "name": "stdout",
     "output_type": "stream",
     "text": [
      "time -p gtexpcube2 infile= '/Users/87steven/Documents/ASIAA/Blazar SED code and data/Fermi_all_sky_survey_data/J2158-3013/ltcube.fits'  cmap=none outfile= '/Users/87steven/Documents/ASIAA/Blazar SED code and data/Fermi_all_sky_survey_data/J2158-3013/binned_exp_map.fits'  irfs=\"P8R3_SOURCE_V3\" evtype=3 edisp_bins=0 nxpix=1800 nypix=900 binsz=0.2 coordsys=\"CEL\" xref=329.716958 yref=-30.225578 axisrot=0.0 proj=\"AIT\" ebinalg=\"LOG\" emin=100.0 emax=500000.0 enumbins=37 ebinfile=\"NONE\" hpx_ordering_scheme=\"RING\" hpx_order=6 bincalc=\"EDGE\" ignorephi=no thmax=180.0 thmin=0.0 table=\"EXPOSURE\" chatter=2 clobber=yes debug=no mode=\"ql\"\n",
      "Computing binned exposure map....................!\n",
      "Using evtype=3 (i.e., FRONT/BACK irfs)\n",
      "real 104.04\n",
      "user 102.62\n",
      "sys 1.23\n"
     ]
    }
   ],
   "source": [
    "infile = \" '\" + data_path + \"/ltcube.fits' \"\n",
    "cmap = 'none'\n",
    "outfile = \" '\" + data_path + \"/binned_exp_map.fits' \"\n",
    "\n",
    "expCube2['infile'] = infile\n",
    "expCube2['cmap'] = cmap\n",
    "expCube2['outfile'] = outfile\n",
    "expCube2['irfs'] = 'P8R3_SOURCE_V3'\n",
    "expCube2['evtype'] = '3'\n",
    "expCube2['nxpix'] = 1800\n",
    "expCube2['nypix'] = 900\n",
    "expCube2['binsz'] = 0.2\n",
    "expCube2['coordsys'] = 'CEL'\n",
    "expCube2['xref'] = RA\n",
    "expCube2['yref'] = DEC\n",
    "expCube2['axisrot'] = 0\n",
    "expCube2['proj'] = 'AIT'\n",
    "expCube2['ebinalg'] = 'LOG'\n",
    "expCube2['emin'] = emin\n",
    "expCube2['emax'] = emax\n",
    "expCube2['enumbins'] = energy_bin_num\n",
    "expCube2.run()\n",
    "\n"
   ]
  },
  {
   "cell_type": "markdown",
   "metadata": {},
   "source": [
    "## Generate XML Model File\n",
    "\n",
    "We need to create an XML file with all of the sources of interest within the Region of Interest (ROI) of 3C 279 so we can correctly model the background. For more information on the format of the model file and how to create one, see the [likelihood analysis](https://fermi.gsfc.nasa.gov/ssc/data/analysis/scitools/likelihood_tutorial.html#createSourceModel) tutorial. We'll use the user contributed tool `make4FGLxml.py` to create a model file based on the LAT 4-year LAT catalog. You'll need to download the FITS version of this file at [http://fermi.gsfc.nasa.gov/ssc/data/access/lat/4yr_catalog/](http://fermi.gsfc.nasa.gov/ssc/data/access/lat/4yr_catalog/) and get the [make4FGLxml.py](https://fermi.gsfc.nasa.gov/ssc/data/analysis/user/python3/make4FGLxml.py) tool from the [user contributed software](http://fermi.gsfc.nasa.gov/ssc/data/analysis/user/) page and put them both in your working directory. Also make sure you have the most recent galactic diffuse and isotropic model files which can be found at [http://fermi.gsfc.nasa.gov/ssc/data/access/lat/BackgroundModels.html](http://fermi.gsfc.nasa.gov/ssc/data/access/lat/BackgroundModels.html). In the following we assume that you have the galactic diffuse and isotropic files in your FermiTools install and we just make local symbolic links."
   ]
  },
  {
   "cell_type": "code",
   "execution_count": 31,
   "metadata": {},
   "outputs": [],
   "source": [
    "### make4FGLxml.py\n",
    "urllib.request.urlretrieve('https://fermi.gsfc.nasa.gov/ssc/data/analysis/user/make4FGLxml.py', 'make4FGLxml.py')\n",
    "\n",
    "### gll_psc_v26.xml\n",
    "urllib.request.urlretrieve('https://fermi.gsfc.nasa.gov/ssc/data/access/lat/10yr_catalog/gll_psc_v26.xml', data_path+'/gll_psc_v26.xml')\n",
    "\n",
    "### iso_P8R3_SOURCE_V3_v1.txt\n",
    "!ln -s $FERMI_DIR/refdata/fermi/galdiffuse/iso_P8R3_SOURCE_V3_v1.txt '/Users/87steven/Documents/ASIAA/Blazar SED code and data/Fermi_all_sky_survey_data/J2158-3013/iso_P8R3_SOURCE_V3_v1.txt'\n",
    "\n",
    "### gll_iem_v07.fits\n",
    "!ln -s $FERMI_DIR/refdata/fermi/galdiffuse/gll_iem_v07.fits '/Users/87steven/Documents/ASIAA/Blazar SED code and data/Fermi_all_sky_survey_data/J2158-3013/gll_iem_v07.fits'\n",
    "\n"
   ]
  },
  {
   "cell_type": "code",
   "execution_count": null,
   "metadata": {},
   "outputs": [],
   "source": []
  },
  {
   "cell_type": "code",
   "execution_count": 32,
   "metadata": {},
   "outputs": [
    {
     "name": "stdout",
     "output_type": "stream",
     "text": [
      "PH00.fits                 binned_filtered.fits      gll_psc_v26.xml\n",
      "PH01.fits                 binned_gti.fits           inned_srcmaps.fits\n",
      "SC00.fits                 binned_srcmaps.fits       \u001b[35miso_P8R3_SOURCE_V3_v1.txt\u001b[m\u001b[m\n",
      "binned_ccube.fits         events.txt                ltcube.fits\n",
      "binned_exp_map.fits       \u001b[35mgll_iem_v07.fits\u001b[m\u001b[m          model.xml\n"
     ]
    }
   ],
   "source": [
    "!ls '/Users/87steven/Documents/ASIAA/Blazar SED code and data/Fermi_all_sky_survey_data/J0001-1551/'\n"
   ]
  },
  {
   "cell_type": "code",
   "execution_count": null,
   "metadata": {},
   "outputs": [],
   "source": []
  },
  {
   "cell_type": "markdown",
   "metadata": {},
   "source": [
    "Now that we have all of the files we need, you can generate your model file:"
   ]
  },
  {
   "cell_type": "code",
   "execution_count": 59,
   "metadata": {},
   "outputs": [],
   "source": []
  },
  {
   "cell_type": "code",
   "execution_count": 60,
   "metadata": {},
   "outputs": [
    {
     "name": "stdout",
     "output_type": "stream",
     "text": [
      "Warning: /Users/87steven/Documents/ASIAA/Blazar SED code and data/Fermi_all_sky_survey_data/J0001-1551/model.xml already exists, file will be overwritten if you proceed with makeModel.\n"
     ]
    }
   ],
   "source": []
  },
  {
   "cell_type": "code",
   "execution_count": 33,
   "metadata": {},
   "outputs": [
    {
     "name": "stdout",
     "output_type": "stream",
     "text": [
      "Creating file and adding sources from 4FGL\n",
      "Added 40 point sources and 0 extended sources\n"
     ]
    }
   ],
   "source": [
    "from make4FGLxml import *\n",
    "\n",
    "mymodel = srcList(data_path+'/gll_psc_v26.xml', data_path+'/binned_gti.fits', data_path+'/model.xml')\n",
    "\n",
    "mymodel.makeModel(data_path+'/gll_iem_v07.fits', 'gll_iem_v07.fits',  # .fits\n",
    "                  data_path+'/iso_P8R3_SOURCE_V3_v1.txt', 'iso_P8R3_SOURCE_V3_v1')\n",
    "\n"
   ]
  },
  {
   "cell_type": "markdown",
   "metadata": {},
   "source": [
    "You can open the model file with your favorite text editor to have a look at it. In the 4FGL catalog, 3C 279 is referred to as \"4FGL J1256.1-0547\". The model for this source is reproduced below. Note the parameters that say \"free=\"1\"\" - the \"1\" indicates that these parameters will be left free during the likelihood analysis, which will also be true for several of the other sources in our ROI."
   ]
  },
  {
   "cell_type": "raw",
   "metadata": {},
   "source": []
  },
  {
   "cell_type": "markdown",
   "metadata": {},
   "source": [
    "### Source Map"
   ]
  },
  {
   "cell_type": "markdown",
   "metadata": {},
   "source": [
    "The [gtsrcmaps](https://raw.githubusercontent.com/fermi-lat/fermitools-fhelp/master/gtsrcmaps.txt) tool creates model counts maps for use with the binned likelihood analysis. To do this, it takes each source spectrum in the XML model, multiplies it by the exposure at the source position, and convolves that exposure with the effective PSF."
   ]
  },
  {
   "cell_type": "code",
   "execution_count": 34,
   "metadata": {},
   "outputs": [
    {
     "name": "stdout",
     "output_type": "stream",
     "text": [
      "time -p gtsrcmaps scfile= sctable=\"SC_DATA\" expcube= '/Users/87steven/Documents/ASIAA/Blazar SED code and data/Fermi_all_sky_survey_data/J2158-3013/ltcube.fits'  cmap= '/Users/87steven/Documents/ASIAA/Blazar SED code and data/Fermi_all_sky_survey_data/J2158-3013/binned_ccube.fits'  srcmdl= '/Users/87steven/Documents/ASIAA/Blazar SED code and data/Fermi_all_sky_survey_data/J2158-3013/model.xml'  bexpmap= '/Users/87steven/Documents/ASIAA/Blazar SED code and data/Fermi_all_sky_survey_data/J2158-3013/binned_exp_map.fits'  wmap=none outfile= '/Users/87steven/Documents/ASIAA/Blazar SED code and data/Fermi_all_sky_survey_data/J2158-3013/binned_srcmaps.fits'  irfs=\"CALDB\" evtype=\"INDEF\" convol=yes resample=yes rfactor=2 minbinsz=0.1 ptsrc=yes psfcorr=yes emapbnds=yes edisp_bins=0 copyall=no chatter=2 clobber=yes debug=no gui=no mode=\"ql\"\n",
      "Function::parameter(std::string &): \n",
      "A Parameter named Expfactor is not a Parameter of Function \n",
      "\n",
      "Caught N10optimizers17ParameterNotFoundE at the top level: Function::parameter(std::string &): \n"
     ]
    },
    {
     "ename": "RuntimeError",
     "evalue": "gtsrcmaps execution failed",
     "output_type": "error",
     "traceback": [
      "\u001b[0;31m---------------------------------------------------------------------------\u001b[0m",
      "\u001b[0;31mRuntimeError\u001b[0m                              Traceback (most recent call last)",
      "Cell \u001b[0;32mIn [34], line 14\u001b[0m\n\u001b[1;32m     11\u001b[0m my_apps\u001b[38;5;241m.\u001b[39msrcMaps[\u001b[38;5;124m'\u001b[39m\u001b[38;5;124mirfs\u001b[39m\u001b[38;5;124m'\u001b[39m] \u001b[38;5;241m=\u001b[39m \u001b[38;5;124m'\u001b[39m\u001b[38;5;124mCALDB\u001b[39m\u001b[38;5;124m'\u001b[39m\n\u001b[1;32m     12\u001b[0m my_apps\u001b[38;5;241m.\u001b[39msrcMaps[\u001b[38;5;124m'\u001b[39m\u001b[38;5;124moutfile\u001b[39m\u001b[38;5;124m'\u001b[39m] \u001b[38;5;241m=\u001b[39m outfile\n\u001b[0;32m---> 14\u001b[0m \u001b[43mmy_apps\u001b[49m\u001b[38;5;241;43m.\u001b[39;49m\u001b[43msrcMaps\u001b[49m\u001b[38;5;241;43m.\u001b[39;49m\u001b[43mrun\u001b[49m\u001b[43m(\u001b[49m\u001b[43m)\u001b[49m\n",
      "File \u001b[0;32m/opt/anaconda3/envs/fermi/lib/python3.9/site-packages/fermitools/GtApp.py:76\u001b[0m, in \u001b[0;36mGtApp.run\u001b[0;34m(self, print_command, catchError, dry_run, **kwds)\u001b[0m\n\u001b[1;32m     74\u001b[0m         \u001b[38;5;28minput\u001b[39m\u001b[38;5;241m.\u001b[39mclose()\n\u001b[1;32m     75\u001b[0m         output\u001b[38;5;241m.\u001b[39mclose()\n\u001b[0;32m---> 76\u001b[0m         \u001b[38;5;28;01mraise\u001b[39;00m \u001b[38;5;167;01mRuntimeError\u001b[39;00m (\u001b[38;5;28mself\u001b[39m\u001b[38;5;241m.\u001b[39mappName \u001b[38;5;241m+\u001b[39m \u001b[38;5;124m\"\u001b[39m\u001b[38;5;124m execution failed\u001b[39m\u001b[38;5;124m\"\u001b[39m)\n\u001b[1;32m     77\u001b[0m \u001b[38;5;28minput\u001b[39m\u001b[38;5;241m.\u001b[39mclose()\n\u001b[1;32m     78\u001b[0m output\u001b[38;5;241m.\u001b[39mclose()\n",
      "\u001b[0;31mRuntimeError\u001b[0m: gtsrcmaps execution failed"
     ]
    }
   ],
   "source": [
    "\n",
    "expcube = \" '/Users/87steven/Documents/ASIAA/Blazar SED code and data/Fermi_all_sky_survey_data/J2158-3013/ltcube.fits' \"\n",
    "cmap = \" '/Users/87steven/Documents/ASIAA/Blazar SED code and data/Fermi_all_sky_survey_data/J2158-3013/binned_ccube.fits' \"\n",
    "srcmdl = \" '/Users/87steven/Documents/ASIAA/Blazar SED code and data/Fermi_all_sky_survey_data/J2158-3013/model.xml' \"\n",
    "bexpmap = \" '/Users/87steven/Documents/ASIAA/Blazar SED code and data/Fermi_all_sky_survey_data/J2158-3013/binned_exp_map.fits' \"\n",
    "outfile = \" '/Users/87steven/Documents/ASIAA/Blazar SED code and data/Fermi_all_sky_survey_data/J2158-3013/binned_srcmaps.fits' \"\n",
    "\n",
    "my_apps.srcMaps['expcube'] = expcube\n",
    "my_apps.srcMaps['cmap'] = cmap\n",
    "my_apps.srcMaps['srcmdl'] = srcmdl\n",
    "my_apps.srcMaps['bexpmap'] = bexpmap\n",
    "my_apps.srcMaps['irfs'] = 'CALDB'\n",
    "my_apps.srcMaps['outfile'] = outfile\n",
    "\n",
    "my_apps.srcMaps.run()\n",
    "\n"
   ]
  },
  {
   "cell_type": "markdown",
   "metadata": {},
   "source": [
    "## Compute the diffuse source responses.\n",
    "\n",
    "The diffuse source responses tell the likelihood fitter what the expected contribution would be for each diffuse source, given the livetime associated with each event. The source model XML file must contain all of the diffuse sources to be fit. The [gtdiffrsp](https://fermi.gsfc.nasa.gov/ssc/data/analysis/scitools/help/gtdiffrsp.txt) tool will add one column to the event data file for each diffuse source. The diffuse response depends on the instrument response function (IRF), which must be in agreement with the selection of events, i.e. the event class and event type we are using in our analysis. Since we are using SOURCE class, CALDB should use the P8R3_SOURCE_V3 IRF for this tool.\n",
    "\n",
    "If the diffuse responses are not precomputed using [gtdiffrsp](https://fermi.gsfc.nasa.gov/ssc/data/analysis/scitools/help/gtdiffrsp.txt), then the [gtlike](https://fermi.gsfc.nasa.gov/ssc/data/analysis/scitools/help/gtlike.txt) tool will compute them at runtime (during the next step). However, as this step is very computationally intensive (often taking ~hours to complete), and it is very likely you will need to run [gtlike](https://fermi.gsfc.nasa.gov/ssc/data/analysis/scitools/help/gtlike.txt) more than once, it is probably wise to precompute these quantities.\n"
   ]
  },
  {
   "cell_type": "code",
   "execution_count": 77,
   "metadata": {},
   "outputs": [
    {
     "name": "stdout",
     "output_type": "stream",
     "text": [
      "time -p gtdiffrsp evfile= '/Users/87steven/Documents/ASIAA/Blazar SED code and data/Fermi_all_sky_survey_data/J0001-1551/binned_gti.fits'  evtable=\"EVENTS\" scfile= '/Users/87steven/Documents/ASIAA/Blazar SED code and data/Fermi_all_sky_survey_data/J0001-1551/SC00.fits'  sctable=\"SC_DATA\" srcmdl= '/Users/87steven/Documents/ASIAA/Blazar SED code and data/Fermi_all_sky_survey_data/J0001-1551/model.xml'  irfs=\"CALDB\" evclsmin=0 evclass=\"INDEF\" evtype=\"INDEF\" convert=no chatter=2 clobber=no debug=no gui=no mode=\"ql\"\n",
      "adding source gll_iem_v07.fits\n",
      "adding source iso_P8R3_SOURCE_V3_v1\n",
      "Working on...\n",
      "/Users/87steven/Documents/ASIAA/Blazar SED code and data/Fermi_all_sky_survey_data/J0001-1551/binned_gti.fits.....................!\n",
      "real 8.41\n",
      "user 7.89\n",
      "sys 0.46\n"
     ]
    }
   ],
   "source": [
    "evfile = \" '\" + data_path + \"/binned_gti.fits' \"\n",
    "scfile = \" '\" + data_path + \"/SC00.fits' \"\n",
    "srcmdl = \" '\" + data_path + \"/model.xml' \"\n",
    "\n",
    "my_apps.diffResps['evfile'] = evfile \n",
    "my_apps.diffResps['scfile'] = scfile \n",
    "my_apps.diffResps['srcmdl'] = srcmdl \n",
    "my_apps.diffResps['irfs'] = 'CALDB'\n",
    "my_apps.diffResps.run()\n",
    "\n"
   ]
  },
  {
   "cell_type": "markdown",
   "metadata": {},
   "source": [
    "## Run the Likelihood Analysis\n",
    "\n",
    "It's time to actually run the likelihood analysis now. First, you need to import the pyLikelihood module and then the UnbinnedAnalysis functions (there's also a binned analysis module that you can import to do [binned likelihood analysis](https://fermi.gsfc.nasa.gov//ssc/data/analysis/scitools/binned_likelihood_tutorial.html) which behaves almost exactly the same as the unbinned analysis module).  For more details on the pyLikelihood module, check out the [pyLikelihood Usage Notes](https://fermi.gsfc.nasa.gov//ssc/data/analysis/scitools/python_usage_notes.html)."
   ]
  },
  {
   "cell_type": "code",
   "execution_count": 78,
   "metadata": {},
   "outputs": [
    {
     "data": {
      "text/plain": [
       "'/Users/87steven/Documents/ASIAA/Blazar SED code and data/Fermi_all_sky_survey_data/J0001-1551'"
      ]
     },
     "execution_count": 78,
     "metadata": {},
     "output_type": "execute_result"
    }
   ],
   "source": [
    "data_path"
   ]
  },
  {
   "cell_type": "code",
   "execution_count": 79,
   "metadata": {},
   "outputs": [
    {
     "name": "stdout",
     "output_type": "stream",
     "text": [
      "PH00.fits                 binned_gti.fits           \u001b[35miso_P8R3_SOURCE_V3_v1.txt\u001b[m\u001b[m\n",
      "PH01.fits                 binned_srcmaps.fits       ltcube.fits\n",
      "SC00.fits                 events.txt                mktime.fits\n",
      "binned_ccube.fits         filtered.fits             model.xml\n",
      "binned_exp_map.fits       \u001b[35mgll_iem_v07.fits\u001b[m\u001b[m\n",
      "binned_filtered.fits      gll_psc_v26.xml\n"
     ]
    }
   ],
   "source": [
    "!ls '/Users/87steven/Documents/ASIAA/Blazar SED code and data/Fermi_all_sky_survey_data/J0001-1551/'\n",
    "\n"
   ]
  },
  {
   "cell_type": "code",
   "execution_count": 134,
   "metadata": {},
   "outputs": [],
   "source": [
    "import pyLikelihood\n",
    "from BinnedAnalysis import *\n",
    "\n",
    "srcmap = data_path + \"/binned_srcmaps.fits\"\n",
    "bexpmap = data_path + \"/binned_exp_map.fits\"\n",
    "expcube = data_path + \"/ltcube.fits\"\n",
    "\n",
    "obs = BinnedObs(srcMaps = srcmap, binnedExpMap = bexpmap, expCube = expcube, irfs = 'CALDB')\n",
    "\n",
    "like = BinnedAnalysis(obs, data_path+'/model.xml', optimizer = 'NewMinuit')\n"
   ]
  },
  {
   "cell_type": "code",
   "execution_count": null,
   "metadata": {},
   "outputs": [],
   "source": []
  },
  {
   "cell_type": "markdown",
   "metadata": {},
   "source": [
    "By now, you'll have two objects, 'obs', an UnbinnedObs object and like, an UnbinnedAnalysis object. You can view these objects attributes and set them from the command line in various ways. For example:"
   ]
  },
  {
   "cell_type": "code",
   "execution_count": 135,
   "metadata": {},
   "outputs": [
    {
     "name": "stdout",
     "output_type": "stream",
     "text": [
      "Source maps: /Users/87steven/Documents/ASIAA/Blazar SED code and data/Fermi_all_sky_survey_data/J0001-1551/binned_srcmaps.fits\n",
      "Exposure cube: /Users/87steven/Documents/ASIAA/Blazar SED code and data/Fermi_all_sky_survey_data/J0001-1551/ltcube.fits\n",
      "Exposure map: /Users/87steven/Documents/ASIAA/Blazar SED code and data/Fermi_all_sky_survey_data/J0001-1551/binned_exp_map.fits\n",
      "IRFs: CALDB\n"
     ]
    }
   ],
   "source": [
    "print(obs)\n",
    "\n"
   ]
  },
  {
   "cell_type": "code",
   "execution_count": 136,
   "metadata": {},
   "outputs": [
    {
     "name": "stdout",
     "output_type": "stream",
     "text": [
      "Source maps: /Users/87steven/Documents/ASIAA/Blazar SED code and data/Fermi_all_sky_survey_data/J0001-1551/binned_srcmaps.fits\n",
      "Exposure cube: /Users/87steven/Documents/ASIAA/Blazar SED code and data/Fermi_all_sky_survey_data/J0001-1551/ltcube.fits\n",
      "Exposure map: /Users/87steven/Documents/ASIAA/Blazar SED code and data/Fermi_all_sky_survey_data/J0001-1551/binned_exp_map.fits\n",
      "IRFs: CALDB\n",
      "Source model file: /Users/87steven/Documents/ASIAA/Blazar SED code and data/Fermi_all_sky_survey_data/J0001-1551/model.xml\n",
      "Optimizer: NewMinuit\n"
     ]
    }
   ],
   "source": [
    "print(like)\n",
    "\n"
   ]
  },
  {
   "cell_type": "markdown",
   "metadata": {},
   "source": [
    "There are a lot of attributes and here you start to see the power of using pyLikelihood since you'll be able (once the fit is done) to access any of these attributes directly within python and use them in your own scripts."
   ]
  },
  {
   "cell_type": "markdown",
   "metadata": {},
   "source": [
    "Now, we're ready to do the actual fit. This next step will take approximately 10 minutes to complete.  We're doing something a bit fancy here.  We're getting the minimizating object (and calling it `likeobj`) from the logLike object so that we can access it later.  We pass this object to the fit routine so that it knows which fitting object to use.  We're also telling the code to calculate the\n",
    "covariance matrix so we can get at the errors."
   ]
  },
  {
   "cell_type": "code",
   "execution_count": null,
   "metadata": {},
   "outputs": [],
   "source": []
  },
  {
   "cell_type": "code",
   "execution_count": 138,
   "metadata": {},
   "outputs": [
    {
     "data": {
      "text/plain": [
       "3728.8404031157856"
      ]
     },
     "execution_count": 138,
     "metadata": {},
     "output_type": "execute_result"
    }
   ],
   "source": [
    "### perform model fit\n",
    "likeobj = pyLikelihood.NewMinuit(like.logLike)\n",
    "\n",
    "like.fit(verbosity = 0, covar = True, optObject = likeobj)\n"
   ]
  },
  {
   "cell_type": "markdown",
   "metadata": {},
   "source": [
    "The number that is printed out here is the -log(Likelihood) of the total fit to the data. You can print the results of the fit by accessing like.model. You can also access the fit for a particular source by doing the following (the source name must match that in the XML model file)."
   ]
  },
  {
   "cell_type": "code",
   "execution_count": 197,
   "metadata": {},
   "outputs": [],
   "source": [
    "### print out fitted parameters of each FGL source\n",
    "\n",
    "#like.model\n",
    "\n",
    "# J0001-1551\n",
    "\n",
    "### get source name\n"
   ]
  },
  {
   "cell_type": "code",
   "execution_count": 161,
   "metadata": {},
   "outputs": [
    {
     "data": {
      "text/plain": [
       "4FGL J0025.2-2231\n",
       "   Spectrum: PowerLaw\n",
       "42     Prefactor:  3.533e+00  0.000e+00  0.000e+00  1.000e+02 ( 4.462e-14) fixed\n",
       "43         Index:  2.503e+00  0.000e+00  0.000e+00  5.000e+00 (-1.000e+00) fixed\n",
       "44         Scale:  1.015e+03  0.000e+00  6.979e+02  1.537e+03 ( 1.000e+00) fixed"
      ]
     },
     "execution_count": 161,
     "metadata": {},
     "output_type": "execute_result"
    }
   ],
   "source": [
    "### can specify source name to print out fitted parameters\n",
    "like.model['4FGL J0025.2-2231']\n"
   ]
  },
  {
   "cell_type": "markdown",
   "metadata": {},
   "source": [
    "The Test Statistic (TS) value is a useful quantity to record when evaluating likelihood results. A TS > 25 is generally considered a strong detection with a high likelihood of being real. "
   ]
  },
  {
   "cell_type": "code",
   "execution_count": null,
   "metadata": {},
   "outputs": [],
   "source": []
  },
  {
   "cell_type": "code",
   "execution_count": 202,
   "metadata": {},
   "outputs": [
    {
     "name": "stdout",
     "output_type": "stream",
     "text": [
      "4FGL J0001.2-0747 = -169.34919491821256\n",
      "4FGL J0002.3-0815 = -20.103513068207576\n",
      "4FGL J0003.3-1928 = -70.60566628098695\n",
      "4FGL J0003.9-1149 = -34.81416511593034\n",
      "4FGL J0006.3-0620 = -23.785108329887407\n",
      "4FGL J0008.4-2339 = -17.098538280097273\n",
      "4FGL J0009.7-1418 = -82.21844022577079\n",
      "4FGL J0010.2-2431 = -20.973693007696966\n",
      "4FGL J0010.8-2154 = -47.86142491056489\n",
      "4FGL J0013.9-1854 = -56.64968181241329\n",
      "4FGL J0017.0-0649 = -102.72347669304054\n",
      "4FGL J0021.6-0855 = -48.949575731332516\n",
      "4FGL J0022.1-1854 = -97.89164144702318\n",
      "4FGL J0025.2-2231 = -55.65129000097386\n",
      "4FGL J0026.1-0732 = -22.639260720387938\n",
      "4FGL J0030.2-1647 = -37.492460675109214\n",
      "4FGL J0031.0-2327 = -14.085339765443678\n",
      "4FGL J0033.3-2040 = -9.291778150674872\n",
      "4FGL J0033.5-1921 = -258.1462365361276\n",
      "4FGL J0035.2-1739 = -10.140061586886986\n",
      "4FGL J0041.7-1607 = -5.8828212034277385\n",
      "4FGL J2321.5-1619 = -35.60247973584228\n",
      "4FGL J2325.2-2010 = -26.82160528935401\n",
      "4FGL J2329.7-2118 = -143.17279552660602\n",
      "4FGL J2330.3-2332 = -38.281861699653746\n",
      "4FGL J2331.0-2147 = -353.6868903155473\n",
      "4FGL J2331.1-1653 = -78.62728528682601\n",
      "4FGL J2331.3-1558 = -82.06588570281019\n",
      "4FGL J2334.9-2346 = -135.4703974497388\n",
      "4FGL J2336.2-0715 = -21.53859859809836\n",
      "4FGL J2345.2-1555 = -1925.175311726859\n",
      "4FGL J2348.0-1630 = -803.1820032852311\n",
      "4FGL J2350.9-1416 = -22.98069744143322\n",
      "4FGL J2353.5-1457 = -18.932395553869355\n",
      "4FGL J2354.1-0958 = -51.1666654802284\n",
      "4FGL J2357.4-1718 = -18.824836611330284\n",
      "4FGL J2358.3-1021 = -356.1272641726955\n",
      "4FGL J2358.5-1808 = -70.51028032026443\n",
      "4FGL J2359.3-2049 = -73.31936043066435\n",
      "gll_iem_v07.fits = -1.0950316209346056e-09\n",
      "iso_P8R3_SOURCE_V3_v1 = -196.3274030524417\n"
     ]
    }
   ],
   "source": [
    "name_list = like.sourceNames()\n",
    "\n",
    "for i in name_list:\n",
    "    Ts = like.Ts(i)\n",
    "    print(i, '=', Ts)\n"
   ]
  },
  {
   "cell_type": "markdown",
   "metadata": {},
   "source": [
    "You can plot the results of the fit by executing the plot command. The results are shown below:\n"
   ]
  },
  {
   "cell_type": "code",
   "execution_count": 125,
   "metadata": {},
   "outputs": [
    {
     "name": "stdout",
     "output_type": "stream",
     "text": [
      "Data  187.0\n",
      "srcName  85.26226248654845\n",
      "srcName  10.129431323134307\n",
      "srcName  37.90206768137219\n",
      "srcName  18.21359105763847\n",
      "srcName  11.945040433312101\n",
      "srcName  8.584514411300178\n",
      "srcName  55.264646127672776\n",
      "srcName  10.533708388392244\n",
      "srcName  24.314245102863193\n",
      "srcName  29.73571323096173\n",
      "srcName  51.57098266876533\n",
      "srcName  24.62090968234608\n",
      "srcName  49.580019439530815\n",
      "srcName  27.98878671962482\n",
      "srcName  11.3454150859889\n",
      "srcName  18.900167783579477\n",
      "srcName  7.044569955193932\n",
      "srcName  4.660340577904729\n",
      "srcName  129.43067352784826\n",
      "srcName  5.091822283239148\n",
      "srcName  2.949806536618775\n",
      "srcName  17.85632693135622\n",
      "srcName  13.450276224400232\n",
      "srcName  71.91522089066945\n",
      "srcName  19.185587499825505\n",
      "srcName  177.51503923217226\n",
      "srcName  39.821555365970305\n",
      "srcName  41.5358497012781\n",
      "srcName  67.97389844507106\n",
      "srcName  10.797515289061932\n",
      "srcName  1045.5771556978211\n",
      "srcName  464.475966568773\n",
      "srcName  13.455019283259642\n",
      "srcName  14.69934322520254\n",
      "srcName  26.11108934228864\n",
      "srcName  20.37645784989803\n",
      "srcName  183.60678104278927\n",
      "srcName  45.806893962823025\n",
      "srcName  37.82563766299956\n",
      "srcName  0.0\n",
      "srcName  110.22289136921935\n",
      "Resid  187.0 3047.2772200887152 -35.2534303011324\n"
     ]
    },
    {
     "data": {
      "image/png": "[encoded data removed]",
      "text/plain": [
       "<Figure size 640x480 with 1 Axes>"
      ]
     },
     "metadata": {},
     "output_type": "display_data"
    },
    {
     "data": {
      "image/png": "[encoded data removed]",
      "text/plain": [
       "<Figure size 640x480 with 1 Axes>"
      ]
     },
     "metadata": {},
     "output_type": "display_data"
    }
   ],
   "source": [
    "%matplotlib inline\n",
    "like.plot()\n",
    "\n"
   ]
  },
  {
   "cell_type": "markdown",
   "metadata": {},
   "source": [
    "The output of the plot function of the like BinnedAnalysis object shows:\n",
    "\n",
    "* Top: the contribution of each of the objects in the model to the total model, and plots the data points on top.\n",
    "* Bottom: the residuals of the likelihood fit to the data.Notice that the fit is poor in the second to last bin.\n",
    "\n",
    "Now, check for convergence."
   ]
  },
  {
   "cell_type": "code",
   "execution_count": 37,
   "metadata": {},
   "outputs": [],
   "source": [
    "#print(likeobj.getRetCode())"
   ]
  },
  {
   "cell_type": "markdown",
   "metadata": {},
   "source": [
    "If you get anything other than '0' here, than NewMinuit didn't converge. There are several reasons that we might not get convergance:\n",
    "\n",
    "* The culprit is usually a parameter (or parameters) in the model that reach the limits set in the XML file. If this happens the minimizer cannot reach the formal minimum, and hence cannot calculate the curvature.\n",
    "* Often the problem is with spectral shape parameters (PL index etc..), so simply freezing the shape of all spectral parameters to their values from the full time period (and certainly for weaker background sources) when fitting a shorter time period may solve the problem. Remember that the 3FGL catalog used a full 4 years of data and we're using a much shorter time period here\n",
    "* Weak background sources are more likely to cause problems, so you could consider just freezing them completely (or removing them from the model). For example a background source from the catalog that is detected at TS~=25 in 2 years could cause convergence problems in a 1-month light curve, where it will often not be detectable at all.\n",
    "* If there are no parameters at their limits, then increasing the overall convergence tolerance may help - try using a value of 1E-8 for the absolute tolerance.\n",
    "* If that doesn't help then try to systematically simplify the model. Progressively freeze all sources, starting with those at the edge of the ROI in and moving in until you get a model simple enough for the minimizer to work reliably. For example if you are using a 10 degree ROI, you could start by freezing all background sources further than 7 degrees from the source of interest, and move to 5 degrees if that doesn't solve the problem."
   ]
  },
  {
   "cell_type": "code",
   "execution_count": 35,
   "metadata": {},
   "outputs": [
    {
     "name": "stdout",
     "output_type": "stream",
     "text": [
      "Wed Dec 16 02:19:54 EST 2020\n"
     ]
    }
   ],
   "source": [
    "!date"
   ]
  },
  {
   "cell_type": "code",
   "execution_count": null,
   "metadata": {},
   "outputs": [],
   "source": []
  }
 ],
 "metadata": {
  "kernelspec": {
   "display_name": "Python 3 (ipykernel)",
   "language": "python",
   "name": "python3"
  },
  "language_info": {
   "codemirror_mode": {
    "name": "ipython",
    "version": 3
   },
   "file_extension": ".py",
   "mimetype": "text/x-python",
   "name": "python",
   "nbconvert_exporter": "python",
   "pygments_lexer": "ipython3",
   "version": "3.9.15"
  }
 },
 "nbformat": 4,
 "nbformat_minor": 4
}
