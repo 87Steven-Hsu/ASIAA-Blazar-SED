{
 "cells": [
  {
   "cell_type": "markdown",
   "id": "83de47c5-12e5-429f-baad-e7d744934fce",
   "metadata": {},
   "source": [
    "## Cheack observatoin data quality "
   ]
  },
  {
   "cell_type": "code",
   "execution_count": null,
   "id": "e9efd73f-701c-423c-b9cd-7a8061724887",
   "metadata": {},
   "outputs": [],
   "source": [
    "from astropy.io import fits as pyfits\n",
    "import matplotlib.pyplot as plt\n",
    "import pandas as pd\n",
    "import numpy as np\n",
    "\n",
    "import gt_apps as my_apps\n",
    "from gt_apps import counts_map\n",
    "import shutil\n",
    "from os import listdir\n",
    "from GtApp import GtApp\n",
    "import urllib.request\n"
   ]
  },
  {
   "cell_type": "code",
   "execution_count": null,
   "id": "dc712138-cf96-4c0b-9e58-ecc6c98fa36e",
   "metadata": {},
   "outputs": [],
   "source": [
    "source_name = \"J0001-1551\"   # \"J0001-1551\"    # \"J2158-3013\"\n",
    "data_path = \"/Users/87steven/Documents/ASIAA/Blazar SED code and data/Fermi_all_sky_survey_data/\"+source_name\n",
    "\n",
    "RA = 0.272042  ### 0.272042    ### 329.716958\n",
    "DEC = -15.851939    ### -15.851939    ### -30.225578\n",
    "rad = 1\n",
    "emin = 100\n",
    "emax = 500000\n",
    "energy_bin_num = 37\n",
    "z_max = 90\n",
    "\n",
    "### examine SCfile info. and observation data quality\n",
    "sc_hdulist = pyfits.open(data_path+'/SC00.fits')\n",
    "\n",
    "sc_hdulist.info()\n",
    "\n",
    "sc_data = sc_hdulist[1].data\n",
    "\n",
    "plt.rcParams['figure.figsize'] = [8, 6]\n",
    "plt.rcParams['axes.linewidth'] = 3\n",
    "    \n",
    "fig, ax = plt.subplots()\n",
    "\n",
    "plt.plot(sc_data.field('START'), sc_data.field('DATA_QUAL'), '.')\n",
    "plt.plot(sc_data.field('START'), sc_data.field('LAT_CONFIG'), '.')\n",
    "\n",
    "ax.set_ylim(-0.1,1.1)"
   ]
  },
  {
   "cell_type": "markdown",
   "id": "03b84ef3-5882-4ec4-b1e5-3e203f2d737e",
   "metadata": {},
   "source": [
    "## Filter data"
   ]
  },
  {
   "cell_type": "code",
   "execution_count": null,
   "id": "90e8c6b4-6919-482c-b4ad-0a24a83a2dec",
   "metadata": {},
   "outputs": [],
   "source": [
    "%system ls \"{data_path}\"\n"
   ]
  },
  {
   "cell_type": "code",
   "execution_count": null,
   "id": "54e8855a-8092-4cd1-a027-00b1a9dc9b20",
   "metadata": {},
   "outputs": [],
   "source": [
    "%system ls \"{data_path}\"/*PH* > \"{data_path}\"/events.txt\n"
   ]
  },
  {
   "cell_type": "code",
   "execution_count": null,
   "id": "42740534-7f6d-421d-b9df-331565a339e8",
   "metadata": {},
   "outputs": [],
   "source": [
    "%system cat \"{data_path}\"/events.txt\n"
   ]
  },
  {
   "cell_type": "code",
   "execution_count": null,
   "id": "0d8fa74c-7f48-44b3-8659-7d9070b3b9c8",
   "metadata": {},
   "outputs": [],
   "source": [
    "%system gtvcut \"{data_path}\"/PH00.fits EVENTS\n"
   ]
  },
  {
   "cell_type": "markdown",
   "id": "f1726dc5-7ad9-443c-b99a-5b2c1da06c39",
   "metadata": {},
   "source": [
    "## gt_apps \"filter\" (gtselect)"
   ]
  },
  {
   "cell_type": "code",
   "execution_count": null,
   "id": "db309e5f-e5ea-41f4-a01c-299a012f8088",
   "metadata": {},
   "outputs": [],
   "source": [
    "import gt_apps\n",
    "from gt_apps import filter\n",
    "filter.pars()\n",
    "\n",
    "infile = \" '\" + data_path + \"/events.txt' \"\n",
    "outfile = \" '\" + data_path + \"/binned_filtered.fits' \"\n",
    "\n",
    "filter['infile'] = infile\n",
    "filter['outfile'] = outfile\n",
    "filter['ra'] = RA  ### seaching coordiante\n",
    "filter['dec'] = DEC\n",
    "filter['rad'] = rad   ### searching radius\n",
    "filter['tmin'] = 'INDEF'\n",
    "filter['tmax'] = 'INDEF'\n",
    "filter['emin'] = emin    ### lower bound energy range\n",
    "filter['emax'] = emax   ### higher bound energy range\n",
    "filter['zmax'] = z_max   ### maximum zenith angle\n",
    "filter['evclass'] = 128 ### 128 means \"Galactic point source\" & \"off-plane point source\" & \"galactic diffuse source\"\n",
    "filter['evtype'] = 3\n"
   ]
  },
  {
   "cell_type": "code",
   "execution_count": null,
   "id": "cb6b3fc1-d181-46c2-9979-28902aa3f6b6",
   "metadata": {},
   "outputs": [],
   "source": [
    "### run the command\n",
    "filter.run()\n"
   ]
  },
  {
   "cell_type": "markdown",
   "id": "a039ec11-0c47-44b4-8ce1-d9437bbf5b96",
   "metadata": {},
   "source": [
    "## Look filtered data"
   ]
  },
  {
   "cell_type": "code",
   "execution_count": null,
   "id": "bfbda1e6-f592-427d-af2f-5d33c4d04474",
   "metadata": {},
   "outputs": [],
   "source": [
    "filtered_data = pyfits.open(data_path+'/binned_filtered.fits')\n"
   ]
  },
  {
   "cell_type": "code",
   "execution_count": null,
   "id": "c9c858b6-a862-47bd-b010-dc63fd604587",
   "metadata": {},
   "outputs": [],
   "source": [
    "#filtered_data.info()\n"
   ]
  },
  {
   "cell_type": "markdown",
   "id": "83e93a45-496f-446b-8e1b-01520365b585",
   "metadata": {},
   "source": [
    "## gt_apps \"maketime\" (gtmktime)\n",
    "\n",
    "will cost a lot of time"
   ]
  },
  {
   "cell_type": "code",
   "execution_count": null,
   "id": "9d9444cd-9e3e-4c0d-bca2-c8fab6d990df",
   "metadata": {},
   "outputs": [],
   "source": [
    "from gt_apps import maketime\n",
    "\n",
    "scfile = \" '\" + data_path + \"/SC00.fits' \"\n",
    "evfile = \" '\" + data_path + \"/binned_filtered.fits' \"\n",
    "outfile = data_path + \"/binned_gti.fits \"\n",
    "\n",
    "maketime['evfile'] = evfile\n",
    "maketime['scfile'] = scfile\n",
    "maketime['outfile'] = outfile\n",
    "maketime['filter'] = \"DATA_QUAL > 0 && LAT_CONFIG == 1\"\n",
    "maketime['apply_filter'] = 'yes'\n",
    "maketime['roicut'] = 'no'\n",
    "\n",
    "maketime.run()\n"
   ]
  },
  {
   "cell_type": "code",
   "execution_count": null,
   "id": "99fdf266-e0a0-420b-87c8-bea1d197622c",
   "metadata": {},
   "outputs": [],
   "source": [
    "outfile = data_path + \"/binned_gti.fits\"\n",
    "\n",
    "mktime_data = pyfits.open(outfile)\n",
    "mktime_data.info()\n"
   ]
  },
  {
   "cell_type": "markdown",
   "id": "c6b492d2-7532-48d8-8266-79627a973cc8",
   "metadata": {},
   "source": [
    "## Create a 3-D (binned) counts map"
   ]
  },
  {
   "cell_type": "code",
   "execution_count": null,
   "id": "984c7433-22c9-4146-ac8e-265806aec13b",
   "metadata": {},
   "outputs": [],
   "source": [
    "scfile = \" '\" + data_path + \"/SC00.fits' \"\n",
    "evfile = \" '\" + data_path + \"/binned_gti.fits' \"\n",
    "outfile = \" '\" + data_path + \"/binned_ccube.fits' \"\n",
    "\n",
    "### gt count maps\n",
    "my_apps.counts_map['algorithm'] = 'CCUBE'\n",
    "my_apps.counts_map['evfile'] = evfile\n",
    "my_apps.counts_map['scfile'] = 'none'\n",
    "my_apps.counts_map['outfile'] = outfile\n",
    "my_apps.counts_map['nxpix'] = 100   #*rad\n",
    "my_apps.counts_map['nypix'] = 100   #*rad\n",
    "my_apps.counts_map['binsz'] = 0.2\n",
    "my_apps.counts_map['coordsys'] = 'CEL'\n",
    "my_apps.counts_map['xref'] = RA   # RA\n",
    "my_apps.counts_map['yref'] = DEC    # DEC\n",
    "my_apps.counts_map['axisrot'] = 0\n",
    "my_apps.counts_map['proj'] = 'AIT'\n",
    "my_apps.counts_map['ebinalg'] = 'LOG'\n",
    "my_apps.counts_map['emin'] = emin\n",
    "my_apps.counts_map['emax'] = emax\n",
    "my_apps.counts_map['enumbins'] = energy_bin_num\n",
    "\n",
    "my_apps.counts_map.run()\n"
   ]
  },
  {
   "cell_type": "markdown",
   "id": "c6b67e51-5596-49f7-90c8-45b9c3e8ec4b",
   "metadata": {},
   "source": [
    "## Livetime Cube\n",
    "\n",
    "cost time"
   ]
  },
  {
   "cell_type": "code",
   "execution_count": null,
   "id": "6886df3e-9839-4f5b-a87b-d3223f27f70c",
   "metadata": {},
   "outputs": [],
   "source": [
    "evfile = data_path + \"/binned_gti.fits\"\n",
    "scfile = \" '\" + data_path + \"/SC00.fits' \"\n",
    "outfile = \" '\" + data_path + \"/ltcube.fits' \"\n",
    "\n",
    "### gt exp Cube\n",
    "my_apps.expCube['evfile'] = evfile\n",
    "my_apps.expCube['scfile'] = scfile\n",
    "my_apps.expCube['outfile'] = outfile\n",
    "my_apps.expCube['zmax'] = 90\n",
    "my_apps.expCube['dcostheta'] = 0.025\n",
    "my_apps.expCube['binsz'] = rad\n",
    "my_apps.expCube.run()\n"
   ]
  },
  {
   "cell_type": "markdown",
   "id": "ad204112-1ccd-46df-8f9a-5ba4d66b5e40",
   "metadata": {},
   "source": [
    "## Exposure Map\n",
    "\n",
    "cost time"
   ]
  },
  {
   "cell_type": "code",
   "execution_count": null,
   "id": "ead94f94-b5b2-4da7-8337-4b54e35e0e2b",
   "metadata": {},
   "outputs": [],
   "source": [
    "### create model file\n",
    "expCube2 = GtApp('gtexpcube2', 'Likelihood')\n",
    "\n",
    "infile = \" '\" + data_path + \"/ltcube.fits' \"\n",
    "cmap = 'none'\n",
    "outfile = \" '\" + data_path + \"/binned_exp_map.fits' \"\n",
    "\n",
    "expCube2['infile'] = infile\n",
    "expCube2['cmap'] = cmap\n",
    "expCube2['outfile'] = outfile\n",
    "expCube2['irfs'] = 'P8R3_SOURCE_V3'\n",
    "expCube2['evtype'] = '3'\n",
    "expCube2['nxpix'] = 1800   #*rad\n",
    "expCube2['nypix'] = 900    #*rad\n",
    "expCube2['binsz'] = 0.2    #*rad\n",
    "expCube2['coordsys'] = 'CEL'\n",
    "expCube2['xref'] = RA\n",
    "expCube2['yref'] = DEC\n",
    "expCube2['axisrot'] = 0\n",
    "expCube2['proj'] = 'AIT'\n",
    "expCube2['ebinalg'] = 'LOG'\n",
    "expCube2['emin'] = emin\n",
    "expCube2['emax'] = emax\n",
    "expCube2['enumbins'] = energy_bin_num # bin number \n",
    "expCube2.run()\n",
    "\n"
   ]
  },
  {
   "cell_type": "markdown",
   "id": "c9e246e1-47c7-441d-b083-ebb8658ff93b",
   "metadata": {},
   "source": [
    "## Generate XML Model File\n"
   ]
  },
  {
   "cell_type": "code",
   "execution_count": null,
   "id": "70fb94c5-327e-4a12-85a5-ac12ab6b1db3",
   "metadata": {},
   "outputs": [],
   "source": [
    "### make4FGLxml.py\n",
    "urllib.request.urlretrieve('https://fermi.gsfc.nasa.gov/ssc/data/analysis/user/make4FGLxml.py', 'make4FGLxml.py')\n",
    "\n",
    "### gll_psc_v26.xml\n",
    "urllib.request.urlretrieve('https://fermi.gsfc.nasa.gov/ssc/data/access/lat/10yr_catalog/gll_psc_v26.xml', data_path+'/gll_psc_v26.xml')\n",
    "\n",
    "### iso_P8R3_SOURCE_V3_v1.txt\n",
    "!ln -s $FERMI_DIR/refdata/fermi/galdiffuse/iso_P8R3_SOURCE_V3_v1.txt \n",
    "shutil.move(\"/Users/87steven/Documents/ASIAA/Blazar SED code and data/iso_P8R3_SOURCE_V3_v1.txt\", data_path+\"/iso_P8R3_SOURCE_V3_v1.txt\")\n",
    "\n",
    "### gll_iem_v07.fits\n",
    "!ln -s $FERMI_DIR/refdata/fermi/galdiffuse/gll_iem_v07.fits \n",
    "shutil.move(\"/Users/87steven/Documents/ASIAA/Blazar SED code and data/gll_iem_v07.fits\", data_path+\"/gll_iem_v07.fits\")\n"
   ]
  },
  {
   "cell_type": "markdown",
   "id": "6782cabf-3bee-4d41-b0cc-862f4c25b7f5",
   "metadata": {},
   "source": [
    "## Make model"
   ]
  },
  {
   "cell_type": "code",
   "execution_count": null,
   "id": "e6a1d55a-c974-47aa-8fff-9427f4ab2f1a",
   "metadata": {},
   "outputs": [],
   "source": [
    "from make4FGLxml import *\n",
    "\n",
    "mymodel = srcList(data_path+'/gll_psc_v26.xml', data_path+'/binned_gti.fits', data_path+'/model.xml')\n",
    "\n",
    "mymodel.makeModel(data_path+'/gll_iem_v07.fits', 'gll_iem_v07.fits',  # .fits\n",
    "                  data_path+'/iso_P8R3_SOURCE_V3_v1.txt', 'iso_P8R3_SOURCE_V3_v1')\n",
    "\n",
    "### Interstellar model: gll_iem_v07.fits is from 4FGL DR1 paper\n",
    "### instrunment response function: iso_P8R3_SOURCE_V3_v1"
   ]
  },
  {
   "cell_type": "markdown",
   "id": "fc8b8ec9-9cc7-434e-bc72-f02aa715e4b8",
   "metadata": {},
   "source": [
    "## Source Map"
   ]
  },
  {
   "cell_type": "code",
   "execution_count": null,
   "id": "8d0727cb-9551-4af2-9c89-80c2f0671441",
   "metadata": {},
   "outputs": [],
   "source": [
    "\n",
    "expcube = \" '\" + data_path + \"/ltcube.fits' \"\n",
    "cmap = \" '\" + data_path + \"/binned_ccube.fits' \"\n",
    "srcmdl = \" '\" + data_path + \"/model.xml' \"\n",
    "bexpmap = \" '\" + data_path + \"/binned_exp_map.fits' \"\n",
    "outfile = \" '\" + data_path + \"/binned_srcmaps.fits' \"\n",
    "\n",
    "my_apps.srcMaps['expcube'] = expcube\n",
    "my_apps.srcMaps['cmap'] = cmap\n",
    "my_apps.srcMaps['srcmdl'] = srcmdl\n",
    "my_apps.srcMaps['bexpmap'] = bexpmap\n",
    "my_apps.srcMaps['irfs'] = 'CALDB'\n",
    "my_apps.srcMaps['outfile'] = outfile\n",
    "\n",
    "my_apps.srcMaps.run()\n"
   ]
  },
  {
   "cell_type": "markdown",
   "id": "0734280c-93ec-4a12-95d8-e8f7bd117d47",
   "metadata": {},
   "source": [
    "## Compute the diffuse source responses.\n"
   ]
  },
  {
   "cell_type": "code",
   "execution_count": null,
   "id": "edb72bdb-476a-4d60-a6c8-d4487f16aca6",
   "metadata": {},
   "outputs": [],
   "source": [
    "evfile = \" '\" + data_path + \"/binned_gti.fits' \"\n",
    "scfile = \" '\" + data_path + \"/SC00.fits' \"\n",
    "srcmdl = \" '\" + data_path + \"/model.xml' \"\n",
    "\n",
    "my_apps.diffResps['evfile'] = evfile \n",
    "my_apps.diffResps['scfile'] = scfile \n",
    "my_apps.diffResps['srcmdl'] = srcmdl \n",
    "my_apps.diffResps['irfs'] = 'CALDB'\n",
    "my_apps.diffResps.run()\n",
    "\n"
   ]
  },
  {
   "cell_type": "markdown",
   "id": "b4c87563-98fe-4683-9db3-31ff215da18d",
   "metadata": {},
   "source": [
    "## Run the Likelihood Analysis\n"
   ]
  },
  {
   "cell_type": "code",
   "execution_count": null,
   "id": "6a8616ca-9368-4e72-afba-362026b590cf",
   "metadata": {},
   "outputs": [],
   "source": [
    "import pyLikelihood\n",
    "from BinnedAnalysis import *\n",
    "\n",
    "srcmap = data_path + \"/binned_srcmaps.fits\"\n",
    "bexpmap = data_path + \"/binned_exp_map.fits\"\n",
    "expcube = data_path + \"/ltcube.fits\"\n",
    "\n",
    "obs = BinnedObs(srcMaps = srcmap, binnedExpMap = bexpmap, expCube = expcube, irfs = 'CALDB')\n",
    "\n",
    "like = BinnedAnalysis(obs, data_path+'/model.xml', optimizer = 'NewMinuit')\n"
   ]
  },
  {
   "cell_type": "code",
   "execution_count": null,
   "id": "eeffd07a-b004-44ad-849b-bf9786543700",
   "metadata": {},
   "outputs": [],
   "source": [
    "### perform model fit\n",
    "likeobj = pyLikelihood.NewMinuit(like.logLike)\n",
    "\n",
    "like.fit(verbosity = 0, covar = True, optObject = likeobj)\n"
   ]
  },
  {
   "cell_type": "code",
   "execution_count": null,
   "id": "ed94f8dc-a4a5-49bf-ae76-d3c2adf0837f",
   "metadata": {},
   "outputs": [],
   "source": [
    "### print out fitted parameters of each FGL source\n",
    "\n",
    "#like.model\n",
    "\n",
    "### can specify source name to print out fitted parameters\n",
    "#like.model['4FGL J0025.2-2231']\n",
    "\n",
    "### print out all source name\n",
    "#name_list = like.sourceNames()\n"
   ]
  },
  {
   "cell_type": "markdown",
   "id": "e1cc78f0-f6b7-46d4-99be-0d39153ad20c",
   "metadata": {},
   "source": [
    "## Test Statistic (TS) value\n",
    "\n",
    "TS > 25 is generally considered a strong detection with a high likelihood of being real."
   ]
  },
  {
   "cell_type": "code",
   "execution_count": null,
   "id": "04881d1e-5e47-47a9-8603-0216c917e740",
   "metadata": {},
   "outputs": [],
   "source": []
  },
  {
   "cell_type": "code",
   "execution_count": null,
   "id": "b1b1f922-be14-4e1f-94c9-c63fc6628747",
   "metadata": {},
   "outputs": [],
   "source": [
    "name_list = np.array(like.sourceNames())\n",
    "Ts_array = np.array([ ])\n",
    " \n",
    "for i in name_list:\n",
    "    Ts = like.Ts(i)\n",
    "    Ts_array = np.append(Ts_array, Ts)\n",
    "    #print(i, '=', Ts)\n",
    "\n",
    "Ts_array = Ts_array[0:(len(Ts_array))-2]\n",
    "index = np.where(Ts_array == np.max(Ts_array))[0]\n",
    "best_source = name_list[index][0]\n",
    "\n",
    "print(\"Maximum Ts source name = \", best_source, \", Ts =\", Ts_array[index][0])\n"
   ]
  },
  {
   "cell_type": "code",
   "execution_count": null,
   "id": "e721ddb5-4833-4c06-bcb0-c0eb48719022",
   "metadata": {},
   "outputs": [],
   "source": [
    "### Read original SED data\n",
    "test = pd.read_csv('/Users/87steven/Documents/ASIAA/Blazar SED code and data/source individual flux 11_15/' + source_name + '_flux.csv') \n",
    "\n",
    "freq_ori = test.freq.values\n",
    "flux_ori = test.flux.values\n",
    "flux_err_ori = test.flux_err.values\n",
    "\n",
    "### create energy bin\n",
    "energy_bin = 10**np.linspace( np.log10(np.min(like.energies)), np.log10(np.max(like.energies)), 10)\n",
    "\n",
    "fermi_freq = []\n",
    "flux_array = []\n",
    "flux_err_array = []\n",
    "\n",
    "### transform counts into flux density\n",
    "for i in range(0, len(energy_bin)-1):\n",
    "\n",
    "    flux = like.flux(best_source,emin = energy_bin[i], emax = energy_bin[i+1], energyFlux = False)\n",
    "    flux_array.append(flux)\n",
    "    \n",
    "    flux_err = like.fluxError(best_source, emin = energy_bin[i], emax = energy_bin[i+1])\n",
    "    flux_err_array.append(flux_err)\n",
    "    \n",
    "    log_low_energy = np.log10(energy_bin[i])\n",
    "    log_high_energy = np.log10(energy_bin[i+1]) \n",
    "    log_energy_diff = log_high_energy-log_low_energy \n",
    "    log_energy = log_low_energy+log_energy_diff\n",
    "    \n",
    "    fermi_freq.append(10**log_energy*1.0E6/(4.1356E-15))\n",
    "\n",
    "plt.rcParams['figure.figsize'] = [10, 8]\n",
    "plt.rcParams['axes.linewidth'] = 3\n",
    "    \n",
    "fig, ax = plt.subplots()\n",
    "\n",
    "ax.errorbar(np.log10(freq_ori), np.log10(flux_ori), yerr = flux_err_ori, marker = \"o\", color = \"red\", ecolor = \"red\", linestyle = '', label = 'Total SED') \n",
    "\n",
    "#ax.plot(np.log10(fermi_freq), np.log10(flux_array), marker = \".\", color = \"blue\", linestyle = '', label = 'Fermi')\n",
    "ax.errorbar(np.log10(fermi_freq), np.log10(flux_array), yerr = 0.434*np.array(flux_err_array)/flux_array, marker = \"o\", color = \"blue\", ecolor = \"blue\", linestyle = '', label = 'Fermi') \n",
    "\n",
    "ax.set_xlim(7, 29)\n",
    "ax.set_ylim(-16, -9) \n",
    "\n",
    "plt.legend(loc = 'upper left', shadow = True, fontsize = 20, markerscale = 1) \n",
    "\n",
    "#ax.set_xscale('log')\n",
    "#ax.set_yscale('log')\n",
    "plt.xlabel( \"log($\\\\nu$) [Hz]\",  fontsize = 16)\n",
    "plt.xticks(fontsize = 14)\n",
    "plt.ylabel('log($\\\\nu$ F($\\\\nu$)) [erg $\\mathrm{cm^{-2}\\ s^{-1}}$]',  fontsize = 16)\n",
    "plt.yticks(fontsize = 14)\n",
    "plt.grid(True)\n",
    "figurename = source_name+' SED Test'\n",
    "plt.title(figurename, fontsize = 20)\n"
   ]
  },
  {
   "cell_type": "code",
   "execution_count": null,
   "id": "e07031cd-c0b6-425a-97f2-2c43908c2f3a",
   "metadata": {},
   "outputs": [],
   "source": [
    "#help(like)"
   ]
  },
  {
   "cell_type": "code",
   "execution_count": null,
   "id": "eafb31cb-9bca-4a85-80f6-f68082d888af",
   "metadata": {},
   "outputs": [],
   "source": []
  },
  {
   "cell_type": "code",
   "execution_count": null,
   "id": "1f37396d-ddb4-4b4d-809b-8d33bbb5362a",
   "metadata": {},
   "outputs": [],
   "source": []
  },
  {
   "cell_type": "code",
   "execution_count": null,
   "id": "e0295503-0fa9-4983-8b7f-38e461217610",
   "metadata": {},
   "outputs": [],
   "source": []
  },
  {
   "cell_type": "code",
   "execution_count": null,
   "id": "339f8c1e-0540-499a-8bb5-c6d7a9bf5bd7",
   "metadata": {},
   "outputs": [],
   "source": []
  },
  {
   "cell_type": "code",
   "execution_count": null,
   "id": "eed867fd-4947-45ee-9b2e-60a44b7574cb",
   "metadata": {},
   "outputs": [],
   "source": []
  },
  {
   "cell_type": "code",
   "execution_count": null,
   "id": "04751dae-7075-4f3c-8c78-c6a6cb582b9c",
   "metadata": {},
   "outputs": [],
   "source": []
  },
  {
   "cell_type": "code",
   "execution_count": null,
   "id": "e1657c65-3a65-4ef6-8ccb-eb5be71704d3",
   "metadata": {},
   "outputs": [],
   "source": []
  },
  {
   "cell_type": "markdown",
   "id": "f267e492-8113-4256-aea1-c7a5dacf14cc",
   "metadata": {},
   "source": [
    "## Plot figure"
   ]
  },
  {
   "cell_type": "code",
   "execution_count": null,
   "id": "678e1e4c-2e90-47e5-a8f0-8be5fce64cd6",
   "metadata": {},
   "outputs": [],
   "source": [
    "import numpy as np\n",
    "\n",
    "E = (like.energies[:-1] + like.energies[1:])/2.\n",
    "name_list = list( like.sourceNames() )\n",
    "count = list(like.nobs)\n",
    "\n",
    "sum_model = np.zeros_like( like._srcCnts(like.sourceNames()[0]) )\n",
    "\n",
    "plt.rcParams['figure.figsize'] = [15, 8]\n",
    "plt.rcParams['axes.linewidth'] = 3\n",
    "    \n",
    "fig, ax = plt.subplots()\n",
    "\n",
    "for i in range(30, len(name_list)):\n",
    "    sum_model = sum_model + like._srcCnts(name_list[i])\n",
    "    plt.loglog(E, like._srcCnts(name_list[i]), label = name_list[i] )\n",
    "    \n",
    "plt.loglog(E, sum_model, '--', color = 'red', label = 'Total Model')\n",
    "plt.errorbar(E, count, yerr = np.sqrt(like.nobs), color = 'blue', fmt = 'o', label = 'Counts')\n",
    "\n",
    "plt.xlabel('Energy [MeV]',  fontsize = 15)\n",
    "plt.ylabel('Counts/bin',  fontsize = 15)\n",
    "\n",
    "#plt.xlim(200, 300000)\n",
    "plt.ylim(0.1, 1e3)\n",
    "\n",
    "box = ax.get_position()\n",
    "ax.set_position([box.x0, box.y0, box.width * 0.5, box.height])\n",
    "\n",
    "plt.legend(bbox_to_anchor = (1.05, 1), loc = 2, borderaxespad=0., ncol = 2)\n",
    "\n",
    "ax.tick_params(width = 2, direction = \"in\", length = 10, labelsize = 15)\n",
    "ax.tick_params(which = 'minor', direction = \"in\", width = 2, length = 6, color = 'k')\n",
    "\n",
    "ax.xaxis.set_ticks_position('both')\n",
    "ax.yaxis.set_ticks_position('both')\n"
   ]
  },
  {
   "cell_type": "code",
   "execution_count": null,
   "id": "ef34756b-b0c6-47a5-9221-0488c0fb35dd",
   "metadata": {},
   "outputs": [],
   "source": [
    "residual = (like.nobs - sum_model)/sum_model   \n",
    "resid_err = np.sqrt(like.nobs)/sum_model\n",
    "\n",
    "plt.rcParams['figure.figsize'] = [8, 6]\n",
    "plt.rcParams['axes.linewidth'] = 3\n",
    "    \n",
    "fig, ax = plt.subplots()\n",
    "\n",
    "plt.plot(E, residual, 'o', color = 'red')\n",
    "plt.errorbar(E, residual, yerr = resid_err, color = 'blue', fmt = 'o')\n",
    "\n",
    "plt.xlabel('Energy [MeV]',  fontsize = 15)\n",
    "plt.ylabel('Residual [(count-model)/model]',  fontsize = 15)\n",
    "\n",
    "plt.xlim(200, 300000)\n",
    "#plt.ylim(-1.01, 115)\n",
    "\n",
    "\n",
    "#plt.legend(bbox_to_anchor = (1.05, 1), loc = 2, borderaxespad=0., ncol = 2)\n",
    "\n",
    "ax.set_xscale('log')\n",
    "\n",
    "ax.tick_params(width = 2, direction = \"in\", length = 10, labelsize = 15)\n",
    "ax.tick_params(which = 'minor', direction = \"in\", width = 2, length = 6, color = 'k')\n",
    "\n",
    "ax.xaxis.set_ticks_position('both')\n",
    "ax.yaxis.set_ticks_position('both')\n"
   ]
  },
  {
   "cell_type": "code",
   "execution_count": null,
   "id": "4e4ac142-61bc-4e8d-acac-7b28e8002e1c",
   "metadata": {},
   "outputs": [],
   "source": []
  },
  {
   "cell_type": "code",
   "execution_count": null,
   "id": "5a4ef79a-edab-498f-84e2-2e6df2277116",
   "metadata": {},
   "outputs": [],
   "source": [
    "\n",
    "E = (like.energies[:-1] + like.energies[1:])/2.\n",
    "freq = E*1.0E6/(4.1356E-15)\n",
    "name_list = list( like.sourceNames() )\n",
    "count = list(like.nobs)\n",
    "\n",
    "plt.rcParams['figure.figsize'] = [15, 8]\n",
    "plt.rcParams['axes.linewidth'] = 3\n",
    "    \n",
    "fig, ax = plt.subplots()\n",
    "\n",
    "for i in range(40, len(name_list)):\n",
    "    plt.plot(np.log10(freq), like._srcCnts(name_list[i]), label = name_list[i] )\n",
    "    \n",
    "plt.plot(np.log10(freq), sum_model, '--', color = 'red', label = 'Total Model')\n",
    "plt.errorbar(np.log10(freq), count, yerr = np.sqrt(like.nobs), color = 'blue', fmt = 'o', label = 'Counts')\n",
    "\n",
    "plt.xlabel('log($\\\\nu$) [Hz]',  fontsize = 15)\n",
    "plt.ylabel('Counts/bin',  fontsize = 15)\n",
    "\n",
    "#plt.xlim(200, 300000)\n",
    "ax.set_yscale('log')\n",
    "plt.ylim(0.1, 1e3)\n",
    "\n",
    "box = ax.get_position()\n",
    "ax.set_position([box.x0, box.y0, box.width * 0.5, box.height])\n",
    "\n",
    "plt.legend(bbox_to_anchor = (1.05, 1), loc = 2, borderaxespad=0., ncol = 2)\n",
    "\n",
    "ax.tick_params(width = 2, direction = \"in\", length = 10, labelsize = 15)\n",
    "ax.tick_params(which = 'minor', direction = \"in\", width = 2, length = 6, color = 'k')\n",
    "\n",
    "ax.xaxis.set_ticks_position('both')\n",
    "ax.yaxis.set_ticks_position('both')\n"
   ]
  },
  {
   "cell_type": "code",
   "execution_count": null,
   "id": "f7675189-3d25-40b6-bf8e-c4c1b91955cc",
   "metadata": {},
   "outputs": [],
   "source": []
  },
  {
   "cell_type": "code",
   "execution_count": null,
   "id": "96a45f76-8783-4306-ac83-14edb6114fce",
   "metadata": {},
   "outputs": [],
   "source": []
  },
  {
   "cell_type": "code",
   "execution_count": null,
   "id": "1bc09e9b-0058-4807-9068-ae4d88ec0bde",
   "metadata": {},
   "outputs": [],
   "source": []
  },
  {
   "cell_type": "code",
   "execution_count": null,
   "id": "ac25f7c8-640e-4a7c-819b-a4066d5ddb35",
   "metadata": {},
   "outputs": [],
   "source": []
  },
  {
   "cell_type": "code",
   "execution_count": 213,
   "id": "ab71c1a0-7585-46d1-a1df-b0a81ca3c0e5",
   "metadata": {},
   "outputs": [
    {
     "data": {
      "text/plain": [
       "4FGL J0006.3-0620\n",
       "   Spectrum: PowerLaw\n",
       "14     Prefactor:  1.665e+00  0.000e+00  0.000e+00  1.000e+02 ( 1.998e-14) fixed\n",
       "15         Index:  2.128e+00  0.000e+00  0.000e+00  5.000e+00 (-1.000e+00) fixed\n",
       "16         Scale:  2.083e+00  0.000e+00  1.000e-02  1.000e+03 ( 1.000e+03) fixed"
      ]
     },
     "execution_count": 213,
     "metadata": {},
     "output_type": "execute_result"
    }
   ],
   "source": [
    "like.model['4FGL J0006.3-0620']\n"
   ]
  },
  {
   "cell_type": "code",
   "execution_count": 214,
   "id": "4cb65bdf-2336-49b4-a88f-278a19c8f51b",
   "metadata": {},
   "outputs": [
    {
     "data": {
      "text/plain": [
       "1.8872077680579995e-09"
      ]
     },
     "execution_count": 214,
     "metadata": {},
     "output_type": "execute_result"
    }
   ],
   "source": [
    "like.flux('4FGL J0006.3-0620',emin=100)"
   ]
  },
  {
   "cell_type": "code",
   "execution_count": 215,
   "id": "783c7a0f-5655-432f-8c68-260114dd2daa",
   "metadata": {},
   "outputs": [
    {
     "data": {
      "text/plain": [
       "0"
      ]
     },
     "execution_count": 215,
     "metadata": {},
     "output_type": "execute_result"
    }
   ],
   "source": [
    "like.fluxError('4FGL J0006.3-0620')\n",
    "\n"
   ]
  },
  {
   "cell_type": "code",
   "execution_count": null,
   "id": "2916c131-23d2-4c2d-8089-0c6c6e2abb6c",
   "metadata": {},
   "outputs": [],
   "source": []
  },
  {
   "cell_type": "code",
   "execution_count": null,
   "id": "0011c5ed-5b00-469d-af77-21d022d42e9d",
   "metadata": {},
   "outputs": [],
   "source": []
  },
  {
   "cell_type": "code",
   "execution_count": null,
   "id": "d89e125b-e60a-4d10-a491-b7fcc31d4f48",
   "metadata": {},
   "outputs": [],
   "source": []
  },
  {
   "cell_type": "code",
   "execution_count": null,
   "id": "ec69cea5-4d1b-4f02-98f2-b469dda7cb9b",
   "metadata": {},
   "outputs": [],
   "source": []
  },
  {
   "cell_type": "code",
   "execution_count": null,
   "id": "50799acf-1e18-4b48-a7f6-a4554c69bf70",
   "metadata": {},
   "outputs": [],
   "source": []
  },
  {
   "cell_type": "code",
   "execution_count": null,
   "id": "b5fc2d12-580b-4980-86c0-8c4a8aa994f2",
   "metadata": {},
   "outputs": [],
   "source": []
  },
  {
   "cell_type": "code",
   "execution_count": null,
   "id": "c85cd003-9c3f-4618-ae1b-6b453ef0dd87",
   "metadata": {},
   "outputs": [],
   "source": []
  },
  {
   "cell_type": "code",
   "execution_count": null,
   "id": "396cc16b-a42a-434c-82cf-232cd7dca621",
   "metadata": {},
   "outputs": [],
   "source": []
  },
  {
   "cell_type": "code",
   "execution_count": null,
   "id": "a631692f-626e-4515-9c42-9bc57fc3cab3",
   "metadata": {},
   "outputs": [],
   "source": [
    "aa = %system exiftool '/Users/87steven/Documents/2023_1_13_鹿林天文台/2023_1_16 RAW/DSC09999.ARW'\n",
    "\n",
    "aa"
   ]
  },
  {
   "cell_type": "code",
   "execution_count": null,
   "id": "1fbac9f8-02a2-432c-8c94-4e4f685cef85",
   "metadata": {},
   "outputs": [],
   "source": []
  },
  {
   "cell_type": "code",
   "execution_count": null,
   "id": "1467b8f6-7c56-47b7-8aff-2bca76e25a32",
   "metadata": {},
   "outputs": [],
   "source": []
  }
 ],
 "metadata": {
  "kernelspec": {
   "display_name": "Python 3 (ipykernel)",
   "language": "python",
   "name": "python3"
  },
  "language_info": {
   "codemirror_mode": {
    "name": "ipython",
    "version": 3
   },
   "file_extension": ".py",
   "mimetype": "text/x-python",
   "name": "python",
   "nbconvert_exporter": "python",
   "pygments_lexer": "ipython3",
   "version": "3.9.15"
  }
 },
 "nbformat": 4,
 "nbformat_minor": 5
}
