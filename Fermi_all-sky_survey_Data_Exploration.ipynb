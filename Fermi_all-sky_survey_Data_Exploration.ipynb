{
 "cells": [
  {
   "cell_type": "markdown",
   "metadata": {},
   "source": [
    "FSSC Science Tools\n",
    "=========================\n",
    "Data Retrieval, Selection and Exploration\n",
    "-------------------------\n",
    "\n",
    "This tutorial is designed to not only make you comfortable running a LAT analysis but also make you familiar with the data and where to go if you want to find more information.  At the end of this tutorial and the likelihood tutorial you should be able to know what all of the various file formats are and be able to perform your own customized simple analysis.  \n",
    "\n",
    "**Goal:**  *Find information, download data, explore data, make simple views of the data*"
   ]
  },
  {
   "cell_type": "markdown",
   "metadata": {},
   "source": [
    "Setting up the Summer School VM\n",
    "-------------------\n",
    "\n",
    "In order to follow along with this tutorial, you need to have the Docker software package and the Fermi container FermiBottle, installed and running. \n",
    "\n",
    "The software, instructions on getting started, and iPhython notebooks that we'll be following during the school are all on GitHub at:\n",
    "\n",
    "https://github.com/fermi-lat/FermiBottle\n",
    "\n",
    "If you go to the project and look at the wiki documentation link, you will see the setup instructions:"
   ]
  },
  {
   "cell_type": "markdown",
   "metadata": {},
   "source": [
    "Accessing these lectures\n",
    "------------------------\n",
    "\n",
    "In your browser, go to the [Confluence page](https://confluence.slac.stanford.edu/display/LSP/Fermi+Summer+School+2021) where the lectures are linked. If you click on one of the notebooks it will open in jupyter's notebook viewer. \n",
    "\n",
    "If you want copies of the content of the notebooks, you can download the contents from the GitHub repository. https://github.com/FermiSummerSchool/ \n",
    "\n",
    "If you want to run a notebook locally in the VM, change into the directory where you have saved the notebooks and run them by typing:\n",
    "\n",
    "> \\> notebook\n",
    "\n",
    "This will start the jupyter notebook server using this command 'jupyter notebook --ip 00.00.00.00 --no-browser' and will provide a link that you can paste into your browser's address bar. Then, click on a notebook and it will open in a new tab."
   ]
  },
  {
   "cell_type": "code",
   "execution_count": null,
   "metadata": {},
   "outputs": [],
   "source": [
    "from IPython.display import Image,HTML,IFrame"
   ]
  },
  {
   "cell_type": "markdown",
   "metadata": {},
   "source": [
    "Now...Where do we start?\n",
    "---------------------------\n",
    "\n",
    "Go to the [FSSC Website](http://fermi.gsfc.nasa.gov/ssc/)&rarr;[Data](http://fermi.gsfc.nasa.gov/ssc/data/)&rarr;[Data Analysis](http://fermi.gsfc.nasa.gov/ssc/data/analysis/)&rarr;[System Overview](http://fermi.gsfc.nasa.gov/ssc/data/analysis/scitools/overview.html)\n"
   ]
  },
  {
   "cell_type": "code",
   "execution_count": null,
   "metadata": {},
   "outputs": [],
   "source": [
    "HTML(\"<img src='https://fermi.gsfc.nasa.gov/ssc/data/analysis/scitools/images/overview/STflow_new.jpg' width='800' height='400'></iframe>\")"
   ]
  },
  {
   "cell_type": "markdown",
   "metadata": {},
   "source": [
    "### Multiple levels of documentation\n",
    "\n",
    "Available from [FSSC Website](http://fermi.gsfc.nasa.gov/ssc/)&rarr;[Data](http://fermi.gsfc.nasa.gov/ssc/data/)&rarr;[Documentation](http://fermi.gsfc.nasa.gov/ssc/data/analysis/documentation/)"
   ]
  },
  {
   "cell_type": "markdown",
   "metadata": {},
   "source": [
    "![Documentation](images/FSSC_Documentation.png)"
   ]
  },
  {
   "cell_type": "markdown",
   "metadata": {},
   "source": [
    "\n",
    "* [Installation](http://fermi.gsfc.nasa.gov/ssc/data/analysis/software/) \n",
    "    * Details the installation procedure\n",
    "* [LAT Analysis Start Page](http://http://fermi.gsfc.nasa.gov/ssc/data/analysis/LAT_essentials.html)\n",
    "    * Summary of the important resources that are needed for standard LAT analysis\n",
    "* [Analysis Threads](http://fermi.gsfc.nasa.gov/ssc/data/analysis/scitools/) \n",
    "    * Examples of actual science analysis where you can follow along step-by-step\n",
    "* [Cicerone](http://translate.google.com/#it/en/cicerone)\n",
    "    * General information on the satellite and instruments\n",
    "    * Describes instrumentation and data acquisition\n",
    "    * Explains analysis methods\n",
    "* [Individual Tool Descriptions](http://fermi.gsfc.nasa.gov/ssc/data/analysis/scitools/references.html) \n",
    "    * Explains individual tools in detail\n",
    "    * (Identical to the information available via [*fhelp*](http://heasarc.gsfc.nasa.gov/ftools/users/node7.html)) "
   ]
  },
  {
   "cell_type": "markdown",
   "metadata": {},
   "source": [
    "### What if I can't figure something out and I am not at the summer school?\n",
    "\n",
    "Contact us!  fermihelp@milkyway.gsfc.nasa.gov . Most of us are nice...most of the time."
   ]
  },
  {
   "cell_type": "markdown",
   "metadata": {},
   "source": [
    "### Getting the data\n",
    "Go to the [FSSC Website](http://fermi.gsfc.nasa.gov/ssc/)&rarr;[Data](http://fermi.gsfc.nasa.gov/ssc/data/)&rarr;[Data Access](http://fermi.gsfc.nasa.gov/ssc/data/access/)"
   ]
  },
  {
   "cell_type": "markdown",
   "metadata": {},
   "source": [
    "![DataProd](images/FSSC_DataProd.png)"
   ]
  },
  {
   "cell_type": "markdown",
   "metadata": {},
   "source": [
    "### Getting our Data\n",
    "We're going to look at a 20 degree region around the AGN 3C 279 from August 4, 2008 to February 4, 2009 and perform a detailed source anlysis so let's use the LAT data server."
   ]
  },
  {
   "cell_type": "markdown",
   "metadata": {},
   "source": [
    "Go to the [FSSC Website](http://fermi.gsfc.nasa.gov/ssc/)&rarr;[Data](http://fermi.gsfc.nasa.gov/ssc/data/)&rarr;[LAT Data Server](http://fermi.gsfc.nasa.gov/cgi-bin/ssc/LAT/LATDataQuery.cgi)"
   ]
  },
  {
   "cell_type": "markdown",
   "metadata": {},
   "source": [
    "![DataServ](images/FSSC_DataServ.png)"
   ]
  },
  {
   "cell_type": "markdown",
   "metadata": {},
   "source": [
    "***How do I fill in these parameters?***\n",
    "\n",
    "(You can click on the field name for more details.)\n",
    "\n",
    "* *Object name or coordinates*: you can use the NED/Simbad/GRB Name or the coordinates (like RA,Dec)\n",
    "    * If you use coordinate lookup, be careful with the coordinates it uses. A name may correspond to several different positions.\n",
    "* *Search Radius*: This depends on your source region.  I usually do an anlysis on 10 - 15 degrees but I always download 30 degrees of data so I have freedom later to change my mind.  If you want to grab more than this, you probably should think about using the weekly files.\n",
    "* *Observation dates*:  Lots of options (see the help).  [xtime](http://heasarc.gsfc.nasa.gov/cgi-bin/Tools/xTime/xTime.pl) is very useful.\n",
    "* *Energy Range*: separated by a comma.\n",
    "* *LAT data type*: Photon or Extended, more on this later.\n",
    "* *Spacecraft data*: yes.  You want this.\n",
    "\n",
    "Here are the selection commands so you can copy/paste\n",
    "\n",
    "* Coordinates: 194.05, -5.79\n",
    "* Search Radius: 30\n",
    "* Time range (MET): 239557417,255398400 (or START, 2009-02-04 00:00:00)\n",
    "* Energy range (MeV): 100, 500000\n",
    "\n",
    "I've already downloaded these data. Here's the resulting page (for the record)."
   ]
  },
  {
   "cell_type": "markdown",
   "metadata": {},
   "source": [
    "![DataServer1](images/FSSC_DataServer1.png)"
   ]
  },
  {
   "cell_type": "markdown",
   "metadata": {},
   "source": [
    "If you click on the link to get to the query result you get this:\n",
    "\n",
    "https://fermi.gsfc.nasa.gov/cgi-bin/ssc/LAT/QueryResults.cgi?id=L190522170052BB65347F15\n"
   ]
  },
  {
   "cell_type": "markdown",
   "metadata": {},
   "source": [
    "![DataServer2](images/FSSC_DataServer2.png)"
   ]
  },
  {
   "cell_type": "markdown",
   "metadata": {},
   "source": [
    "You could click the *Available* links or you could just use the *wget* commands in a terminal window."
   ]
  },
  {
   "cell_type": "markdown",
   "metadata": {},
   "source": [
    "We put these in the data directory of the current working directory, and rename them for ease of use to SC00.fits, PH00.fits and PH01.fits."
   ]
  },
  {
   "cell_type": "code",
   "execution_count": null,
   "metadata": {},
   "outputs": [],
   "source": [
    "ls ../data/"
   ]
  },
  {
   "cell_type": "markdown",
   "metadata": {},
   "source": [
    "So, what do we have now?  We've got a photon file (you could get several of these depending on how the query was executed) and one spacecraft file. According to the data server, the photon file contains 569,325 events.\n",
    "\n",
    "You can use the ftool *fv* to investigate these FITS tables directly."
   ]
  },
  {
   "cell_type": "markdown",
   "metadata": {},
   "source": [
    "There's a row for every event and each column details all of the information about that event.  You could click the header to find more details or check out the [information about the columns](http://fermi.gsfc.nasa.gov/ssc/data/analysis/documentation/Cicerone/Cicerone_Data/LAT_Data_Columns.html) on the FSSC site.  We can have a look at them.  And you can see what the 'extended' data are all about."
   ]
  },
  {
   "cell_type": "markdown",
   "metadata": {},
   "source": [
    "![Columns](images/FSSC_Columns.png)"
   ]
  },
  {
   "cell_type": "markdown",
   "metadata": {},
   "source": [
    "The extended file just has some extra information about each event.  \n",
    "\n",
    "This page also details what's in the spacecraft file.  You can use 'fv' to plot some of these parameters or we can actually plot them here in python."
   ]
  },
  {
   "cell_type": "code",
   "execution_count": 34,
   "metadata": {},
   "outputs": [],
   "source": [
    "from astropy.io import fits as pyfits\n",
    "import matplotlib.pyplot as plt\n"
   ]
  },
  {
   "cell_type": "code",
   "execution_count": 35,
   "metadata": {},
   "outputs": [
    {
     "name": "stdout",
     "output_type": "stream",
     "text": [
      "Filename: /Users/87steven/Documents/ASIAA/Blazar SED code and data/Fermi_all_sky_survey_data/J2158-3013/SC00.fits\n",
      "No.    Name      Ver    Type      Cards   Dimensions   Format\n",
      "  0  PRIMARY       1 PrimaryHDU      28   ()      \n",
      "  1  SC_DATA       1 BinTableHDU    157   443576R x 31C   [D, D, 3E, E, E, D, E, E, E, E, E, E, L, E, E, E, E, E, E, E, J, B, I, D, D, D, D, D, E, E, 3E]   \n"
     ]
    }
   ],
   "source": [
    "sc_hdulist = pyfits.open('/Users/87steven/Documents/ASIAA/Blazar SED code and data/Fermi_all_sky_survey_data/J2158-3013/SC00.fits')\n",
    "\n",
    "sc_hdulist.info()\n"
   ]
  },
  {
   "cell_type": "code",
   "execution_count": 36,
   "metadata": {},
   "outputs": [
    {
     "data": {
      "text/plain": [
       "FITS_rec([(6.78871767e+08, 6.78871797e+08, [-2671727.5,  5620160. ,  2968271. ], 25.639301 ,   77.811035, 520401.41541263, 115.42561, 25.500795 , 1.7998608, 1.1361618, 20.254116, 21.370266 ,  0, 107.95859 ,  75.3715  , 106.38516, -14.62322 , 301.69412, 64.36544 ,  50.015404, 5, 1, 1, 27.6442039 , -0.10395553,  0.07349431,  7.94403036e-01,  0.59389869, 106.15814,  22.605505, [-6802.527  , -3400.6326 ,   326.55536]),\n",
       "          (6.78871797e+08, 6.78871827e+08, [-2874303.2,  5515083.5,  2976436.2], 25.71422  ,   79.787315, 520566.66108361, 117.52723, 25.575428 , 1.8019173, 1.1348897, 20.166939, 21.391182 ,  0, 112.77673 ,  75.53287 , 105.45575, -14.354082, 301.68436, 64.365746,  50.015354, 5, 1, 1, 27.66570113, -0.10897246,  0.06308279,  7.90637655e-01,  0.59919751, 106.15849,  22.605467, [-6701.329  , -3603.8162 ,   217.78345]),\n",
       "          (6.78871827e+08, 6.78871857e+08, [-3073735. ,  5403973.5,  2981336.8], 25.758907 ,   81.7656  , 520739.71743915, 119.63086, 25.619946 , 1.8012257, 1.1332794, 20.055851, 21.384153 ,  0, 117.664055,  75.62514 , 104.55668, -14.015296, 301.6846 , 64.3657  ,  50.015057, 5, 1, 1, 27.65295816, -0.11356547,  0.05250517,  7.86874200e-01,  0.60429718, 106.15885,  22.60543 , [-6592.813  , -3803.0264 ,   108.79117]),\n",
       "          ...,\n",
       "          (6.94423705e+08, 6.94423735e+08, [ 1346864.9,  6723121. ,  -863408.2], -7.2211556, -136.10036 , 533050.22690897,  78.67171, -7.1770096, 1.0227393, 1.0784872, 15.650513, -4.170777 ,  0,  48.926537, -50.62738 , 285.06265, -24.57279 , 153.35115, 64.51843 , -49.980957, 5, 1, 1, 27.77926225,  0.71041401, -0.61792422,  3.31821208e-04, -0.33687013, 283.39557, -22.865055, [-6853.5    ,   969.0094 , -3126.481  ]),\n",
       "          (6.94423735e+08, 6.94423765e+08, [ 1140566.9,  6748531.5,  -956715. ], -8.006302 , -134.4903  , 533054.19623354,  80.40711, -7.957474 , 1.0284317, 1.0813471, 15.9189  , -4.657223 ,  0,  50.37119 , -51.44462 , 285.10025, -24.713364, 153.35124, 64.51827 , -50.01128 , 5, 1, 1, 27.77684226,  0.71370821, -0.61775694, -7.19824356e-03, -0.33006839, 283.39594, -22.865023, [-6898.6094 ,   724.6429 , -3093.376  ]),\n",
       "          (6.94423765e+08, 6.94423785e+08, [  933025.9,  6766598. , -1048976.6], -8.78412  , -132.87358 , 533055.23026244,  82.14916, -8.73069  , 1.0347579, 1.084187 , 16.180086, -5.1414585,  0,  51.88284 , -52.223938, 285.13855, -24.8746  , 153.3516 , 64.51797 , -49.98981 , 5, 1, 1, 19.29016989,  0.71686041, -0.61750844, -1.48241453e-02, -0.32338016, 283.39633, -22.86499 , [-6936.2207 ,   479.489  , -3056.886  ])],\n",
       "         dtype=(numpy.record, [('START', '>f8'), ('STOP', '>f8'), ('SC_POSITION', '>f4', (3,)), ('LAT_GEO', '>f4'), ('LON_GEO', '>f4'), ('RAD_GEO', '>f8'), ('RA_ZENITH', '>f4'), ('DEC_ZENITH', '>f4'), ('B_MCILWAIN', '>f4'), ('L_MCILWAIN', '>f4'), ('GEOMAG_LAT', '>f4'), ('LAMBDA', '>f4'), ('IN_SAA', 'i1'), ('RA_SCZ', '>f4'), ('DEC_SCZ', '>f4'), ('RA_SCX', '>f4'), ('DEC_SCX', '>f4'), ('RA_NPOLE', '>f4'), ('DEC_NPOLE', '>f4'), ('ROCK_ANGLE', '>f4'), ('LAT_MODE', '>i4'), ('LAT_CONFIG', 'u1'), ('DATA_QUAL', '>i2'), ('LIVETIME', '>f8'), ('QSJ_1', '>f8'), ('QSJ_2', '>f8'), ('QSJ_3', '>f8'), ('QSJ_4', '>f8'), ('RA_SUN', '>f4'), ('DEC_SUN', '>f4'), ('SC_VELOCITY', '>f4', (3,))]))"
      ]
     },
     "execution_count": 36,
     "metadata": {},
     "output_type": "execute_result"
    }
   ],
   "source": [
    "sc_data = sc_hdulist[1].data\n",
    "\n",
    "sc_data"
   ]
  },
  {
   "cell_type": "markdown",
   "metadata": {},
   "source": [
    "### Check data quality"
   ]
  },
  {
   "cell_type": "code",
   "execution_count": 37,
   "metadata": {},
   "outputs": [
    {
     "data": {
      "text/plain": [
       "(-0.1, 1.1)"
      ]
     },
     "execution_count": 37,
     "metadata": {},
     "output_type": "execute_result"
    },
    {
     "data": {
      "image/png": "[encoded data removed]",
      "text/plain": [
       "<Figure size 800x600 with 1 Axes>"
      ]
     },
     "metadata": {},
     "output_type": "display_data"
    }
   ],
   "source": [
    "\n",
    "plt.rcParams['figure.figsize'] = [8, 6]\n",
    "plt.rcParams['axes.linewidth'] = 3\n",
    "    \n",
    "fig, ax = plt.subplots()\n",
    "\n",
    "plt.plot(sc_data.field('START'), sc_data.field('DATA_QUAL'), '.')\n",
    "plt.plot(sc_data.field('START'), sc_data.field('LAT_CONFIG'), '.')\n",
    "\n",
    "ax.set_ylim(-0.1,1.1)\n"
   ]
  },
  {
   "cell_type": "markdown",
   "metadata": {},
   "source": [
    "[Cool Cool Cool](http://www.youtube.com/watch?v=8IIrf_JSuQk).  You can see that there were some times in there when the LAT data quality was less than perfect.  We'll need to filter these out and figure out which of the events we want to keep."
   ]
  },
  {
   "cell_type": "markdown",
   "metadata": {},
   "source": [
    "Filtering and Selecting Data\n",
    "----------------------------\n",
    "\n",
    "timeline of the tutorial vedio: 13:10\n",
    "\n",
    "You can filter and select on any of the parameters of the events but there are some [recommendations and good practices](http://fermi.gsfc.nasa.gov/ssc/data/analysis/documentation/Cicerone/Cicerone_Data_Exploration/Data_preparation.html) listed at the FSSC site.\n"
   ]
  },
  {
   "cell_type": "markdown",
   "metadata": {},
   "source": [
    "![Event_recommendations](images/Event_recommendations.png)"
   ]
  },
  {
   "cell_type": "markdown",
   "metadata": {},
   "source": [
    "Let's talk about these for a bit:\n",
    "\n",
    "* The minimum and maximum energy cuts are pretty obvious.  Many analyses don't work as well below 100 MeV and need extra care. \n",
    "* Zenith Angle:  This cut helps to exclude photons originating from the Earth's limb.\n",
    "* Event Class: The LAT team classifies events based on the probability that they are photons.  Each event class has distinct Instrument Response Functions (the description of how the instrument responds to events). With the exception of Solar Flare data, the event classes are nested as shown below."
   ]
  },
  {
   "cell_type": "code",
   "execution_count": 6,
   "metadata": {},
   "outputs": [
    {
     "ename": "NameError",
     "evalue": "name 'figure' is not defined",
     "output_type": "error",
     "traceback": [
      "\u001b[0;31m---------------------------------------------------------------------------\u001b[0m",
      "\u001b[0;31mNameError\u001b[0m                                 Traceback (most recent call last)",
      "Cell \u001b[0;32mIn [6], line 1\u001b[0m\n\u001b[0;32m----> 1\u001b[0m fig \u001b[38;5;241m=\u001b[39m \u001b[43mfigure\u001b[49m(figsize\u001b[38;5;241m=\u001b[39m(\u001b[38;5;241m10\u001b[39m, \u001b[38;5;241m10\u001b[39m), facecolor\u001b[38;5;241m=\u001b[39m\u001b[38;5;124m'\u001b[39m\u001b[38;5;124mw\u001b[39m\u001b[38;5;124m'\u001b[39m)\n\u001b[1;32m      2\u001b[0m ax \u001b[38;5;241m=\u001b[39m axes((\u001b[38;5;241m0\u001b[39m,\u001b[38;5;241m0\u001b[39m,\u001b[38;5;241m1\u001b[39m,\u001b[38;5;241m1\u001b[39m),xticks\u001b[38;5;241m=\u001b[39m[], yticks\u001b[38;5;241m=\u001b[39m[], frameon\u001b[38;5;241m=\u001b[39m\u001b[38;5;28;01mFalse\u001b[39;00m)\n\u001b[1;32m      3\u001b[0m ax\u001b[38;5;241m.\u001b[39mset_xlim(\u001b[38;5;241m0\u001b[39m, \u001b[38;5;241m11\u001b[39m)\n",
      "\u001b[0;31mNameError\u001b[0m: name 'figure' is not defined"
     ]
    }
   ],
   "source": [
    "fig = figure(figsize=(10, 10), facecolor='w')\n",
    "ax = axes((0,0,1,1),xticks=[], yticks=[], frameon=False)\n",
    "ax.set_xlim(0, 11)\n",
    "ax.set_ylim(0, 11)\n",
    "\n",
    "patches = [Rectangle((0.5,0.5),9,9, zorder=1, fc='#777777'),\n",
    "           Rectangle((1,1),7.5,7.5, zorder=1, fc='#999999'),\n",
    "           Rectangle((1.5,1.5),6.5,6.3, zorder=1, fc='#AAAAAA'),\n",
    "           Rectangle((2,2),5.5,5, zorder=1, fc='#BBBBBB'),\n",
    "           Rectangle((2.5,2.5),4.5,3.7, zorder=1, fc='#CCCCCC'),\n",
    "           Rectangle((3,3),3.5,2.5, zorder=1, fc='#DDDDDD'),\n",
    "           Rectangle((3.2,3.2),2.3,1.5, zorder=1, fc='#EEEEEE')]\n",
    "\n",
    "for p in patches:\n",
    "    ax.add_patch(p)\n",
    "    \n",
    "text(1, 9, \"All Events\",ha='left', va='center', fontsize=16)\n",
    "text(1.5, 8.1, \"Transient020 (evclass=16)\",ha='left', va='center', fontsize=16)\n",
    "text(1.8, 7.4, \"Transient010 (evclass=64)\",ha='left', va='center', fontsize=16)\n",
    "text(2.3, 6.6, \"Source (evclass=128)\",ha='left', va='center', fontsize=16)\n",
    "text(2.8, 5.8, \"Clean (evclass=256)\",ha='left', va='center', fontsize=16)\n",
    "text(3.2, 5, \"UltraClean (evclass=512)\",ha='left', va='center', fontsize=16)\n",
    "text(3.4, 4, \"UltraCleanVeto\\n(evclass=1024)\",ha='left', va='center', fontsize=16)\n",
    "text(0.5,9.7, \"Not to scale.\",ha='left', va='center', fontsize=16)\n",
    "show()"
   ]
  },
  {
   "cell_type": "markdown",
   "metadata": {},
   "source": [
    "In addition to Event Classes, there are also *Event Types*. There are no recommendations made in the table about which event type to use. This means that filtering on event type is an option available to you, but not necessary for these analyses.\n",
    "\n",
    "Event Types allow you to futher refine your data set, removing events with less desireable characteristics. There are three event types defined in the PASS 8 LAT data:\n",
    "* Front/Back - filters based on where the conversion occurred in the instrument\n",
    "* PSF - Divides the data into four quadriles, based on the quality of the reconstructed direction\n",
    "* EDISP - Divides the data into four quadriles, based on the quality of the reconstructed energy"
   ]
  },
  {
   "cell_type": "markdown",
   "metadata": {},
   "source": [
    "![EventType_hierarchy](images/EventType_hierarchy.png)"
   ]
  },
  {
   "cell_type": "markdown",
   "metadata": {},
   "source": [
    "Both *Event Class* and *Event Type* are bitfields. So to use ALL events for a particular class, you can use an event type value of 3, 60, or 960."
   ]
  },
  {
   "cell_type": "markdown",
   "metadata": {},
   "source": [
    "### What makes up an Instrument Response Function?"
   ]
  },
  {
   "cell_type": "markdown",
   "metadata": {},
   "source": [
    "The best place to get a look at this is the [LAT Performance Page](http://www.slac.stanford.edu/exp/glast/groups/canda/lat_Performance.htm) but you have access to the IRFs if you want to play with them. You can find the IRF files in your conda environment:\n",
    "\n",
    "$CONDA_PREFIX/share/fermitools/refdata/fermi/galdiffuse/\n"
   ]
  },
  {
   "cell_type": "code",
   "execution_count": 7,
   "metadata": {},
   "outputs": [
    {
     "ename": "SyntaxError",
     "evalue": "invalid syntax (93667067.py, line 2)",
     "output_type": "error",
     "traceback": [
      "\u001b[0;36m  Cell \u001b[0;32mIn [7], line 2\u001b[0;36m\u001b[0m\n\u001b[0;31m    ls $CONDA_PREFIX/share/fermitools/refdata/fermi/galdiffuse/\u001b[0m\n\u001b[0m       ^\u001b[0m\n\u001b[0;31mSyntaxError\u001b[0m\u001b[0;31m:\u001b[0m invalid syntax\n"
     ]
    }
   ],
   "source": [
    "### display instrumnet response function\n",
    "ls $CONDA_PREFIX/share/fermitools/refdata/fermi/galdiffuse/\n"
   ]
  },
  {
   "cell_type": "code",
   "execution_count": 8,
   "metadata": {
    "scrolled": true
   },
   "outputs": [
    {
     "ename": "NameError",
     "evalue": "name 'HTML' is not defined",
     "output_type": "error",
     "traceback": [
      "\u001b[0;31m---------------------------------------------------------------------------\u001b[0m",
      "\u001b[0;31mNameError\u001b[0m                                 Traceback (most recent call last)",
      "Cell \u001b[0;32mIn [8], line 2\u001b[0m\n\u001b[1;32m      1\u001b[0m \u001b[38;5;66;03m### instrumnet response function documentation\u001b[39;00m\n\u001b[0;32m----> 2\u001b[0m \u001b[43mHTML\u001b[49m(\u001b[38;5;124m\"\u001b[39m\u001b[38;5;124m<iframe src=\u001b[39m\u001b[38;5;124m'\u001b[39m\u001b[38;5;124mhttps://www.slac.stanford.edu/exp/glast/groups/canda/lat_Performance.htm\u001b[39m\u001b[38;5;124m'\u001b[39m\u001b[38;5;124m width=\u001b[39m\u001b[38;5;124m'\u001b[39m\u001b[38;5;124m1000\u001b[39m\u001b[38;5;124m'\u001b[39m\u001b[38;5;124m height=\u001b[39m\u001b[38;5;124m'\u001b[39m\u001b[38;5;124m500\u001b[39m\u001b[38;5;124m'\u001b[39m\u001b[38;5;124m></iframe>\u001b[39m\u001b[38;5;124m\"\u001b[39m)\n",
      "\u001b[0;31mNameError\u001b[0m: name 'HTML' is not defined"
     ]
    }
   ],
   "source": [
    "### instrumnet response function documentation\n",
    "HTML(\"<iframe src='https://www.slac.stanford.edu/exp/glast/groups/canda/lat_Performance.htm' width='1000' height='500'></iframe>\")\n"
   ]
  },
  {
   "cell_type": "markdown",
   "metadata": {},
   "source": [
    "Filtering the Data\n",
    "------------------\n",
    "\n",
    "timeline of the tutorual vedio: 20:30\n",
    "\n",
    "So, for the point source analysis we're doing, we'll use source class events, and we won't filter on event type.  We use *[gtselect](http://fermi.gsfc.nasa.gov/ssc/data/analysis/scitools/help/gtselect.txt)* to do the selection.  There are ways to do this from within python (you'll see these in a moment) but we'll run this from a terminal right now. \n",
    "\n",
    "Since we were given two separate photon files from the data server we need to make a file list so that when we run *gtselect* it knows to look in both files for events that match our selections.  Here's a quick way to do this:"
   ]
  },
  {
   "cell_type": "code",
   "execution_count": 9,
   "metadata": {},
   "outputs": [
    {
     "data": {
      "text/plain": [
       "['/Users/87steven/Documents/ASIAA/Blazar SED code and data']"
      ]
     },
     "execution_count": 9,
     "metadata": {},
     "output_type": "execute_result"
    }
   ],
   "source": [
    "%system pwd"
   ]
  },
  {
   "cell_type": "code",
   "execution_count": 38,
   "metadata": {},
   "outputs": [
    {
     "data": {
      "text/plain": [
       "['PH00.fits', 'PH01.fits', 'SC00.fits']"
      ]
     },
     "execution_count": 38,
     "metadata": {},
     "output_type": "execute_result"
    }
   ],
   "source": [
    "### look photon file, and spacecraft data in the path\n",
    "path = '/Users/87steven/Documents/ASIAA/Blazar SED code and data/Fermi_all_sky_survey_data/J2158-3013'\n",
    "\n",
    "%system ls \"{path}\"\n",
    "### events.txt need to be created by myself !!!!\n"
   ]
  },
  {
   "cell_type": "code",
   "execution_count": 39,
   "metadata": {},
   "outputs": [
    {
     "data": {
      "text/plain": [
       "[]"
      ]
     },
     "execution_count": 39,
     "metadata": {},
     "output_type": "execute_result"
    }
   ],
   "source": [
    "### add photon file path into events.txt\n",
    "%system ls \"{path}\"/*PH* > \"{path}\"/events.txt\n"
   ]
  },
  {
   "cell_type": "code",
   "execution_count": 40,
   "metadata": {},
   "outputs": [
    {
     "data": {
      "text/plain": [
       "['/Users/87steven/Documents/ASIAA/Blazar SED code and data/Fermi_all_sky_survey_data/J2158-3013/PH00.fits',\n",
       " '/Users/87steven/Documents/ASIAA/Blazar SED code and data/Fermi_all_sky_survey_data/J2158-3013/PH01.fits']"
      ]
     },
     "execution_count": 40,
     "metadata": {},
     "output_type": "execute_result"
    }
   ],
   "source": [
    "%system cat \"{path}\"/events.txt\n"
   ]
  },
  {
   "cell_type": "code",
   "execution_count": null,
   "metadata": {},
   "outputs": [],
   "source": []
  },
  {
   "cell_type": "markdown",
   "metadata": {},
   "source": [
    "Now we're ready to go.  Note in the usage for *gtselect* that the event class isn't listed.  It's a 'hidden parameter', so you'll need to run the tool like this:\n",
    "\n",
    "> \\> gtselect evclass=128 evtype=3\n",
    "\n",
    "There's lots of info we need to give gtselect so it makes sense to run *gtvcut* on one of our photon files to figure out what we were doing.\n"
   ]
  },
  {
   "cell_type": "code",
   "execution_count": 41,
   "metadata": {},
   "outputs": [
    {
     "data": {
      "text/plain": [
       "['DSTYP1: TIME',\n",
       " 'DSUNI1: s',\n",
       " 'DSVAL1: TABLE',\n",
       " 'DSREF1: :GTI',\n",
       " '',\n",
       " 'GTIs: (suppressed)',\n",
       " '',\n",
       " 'DSTYP2: BIT_MASK(EVENT_CLASS,128,P8R3)',\n",
       " 'DSUNI2: DIMENSIONLESS',\n",
       " 'DSVAL2: 1:1',\n",
       " '',\n",
       " 'DSTYP3: POS(RA,DEC)',\n",
       " 'DSUNI3: deg',\n",
       " 'DSVAL3: CIRCLE(329.716958,-30.225578,1)',\n",
       " '',\n",
       " 'DSTYP4: TIME',\n",
       " 'DSUNI4: s',\n",
       " 'DSVAL4: 678871786:694423786',\n",
       " '',\n",
       " 'DSTYP5: ENERGY',\n",
       " 'DSUNI5: MeV',\n",
       " 'DSVAL5: 100:300000',\n",
       " '']"
      ]
     },
     "execution_count": 41,
     "metadata": {},
     "output_type": "execute_result"
    }
   ],
   "source": [
    "%system gtvcut \"{path}\"/PH00.fits EVENTS\n"
   ]
  },
  {
   "cell_type": "markdown",
   "metadata": {},
   "source": [
    "We can then filter the data, using the recommentations in the table above as a guide:"
   ]
  },
  {
   "cell_type": "markdown",
   "metadata": {},
   "source": [
    "    (fermi) [fermi@4df7918df652 Data_Exploration]$ gtselect evclass=128\n",
    "\n",
    "    WARNING: version mismatch between CFITSIO header (v3.43) and linked library (v3.41).\n",
    "\n",
    "    Input FT1 file[] @../data/events.txt\n",
    "    Output FT1 file[] ../data/3C279_filtered.fits\n",
    "    RA for new search center (degrees) (0:360) [INDEF] 194.05\n",
    "    Dec for new search center (degrees) (-90:90) [INDEF] -5.79\n",
    "    radius of new search region (degrees) (0:180) [INDEF] 30\n",
    "    start time (MET in s) (0:) [INDEF] 239557417\n",
    "    end time (MET in s) (0:) [INDEF] 255398400\n",
    "    lower energy limit (MeV) (0:) [30] 100\n",
    "    upper energy limit (MeV) (0:) [300000] 500000\n",
    "    maximum zenith angle value (degrees) (0:180) [180] 100\n",
    "    Done.\n",
    "    (fermi) [fermi@4df7918df652 Data_Exploration]$```"
   ]
  },
  {
   "cell_type": "markdown",
   "metadata": {},
   "source": [
    "Some things to note here:\n",
    "\n",
    "* For the ballistic tool, we had to explicitly give the event class on the command line (it's a *hidden* parameter).\n",
    "    * You can change this by manually editing your local version of the *parameter file* for this tool, if you wish.\n",
    "    * This is not an issue for running in python.\n",
    "* We put an '@' sign in front of the input filename which tells gtselect that this isn't actually a FITS file but a list of FITS files.\n",
    "* We used the recommended zenith angle cut of 90 (you can check the documentation to make sure it makes sense for your analysis).\n",
    "* We could have used INDEF to represent the start and end times if we want to use the full time range of the downloaded file. \n",
    "* We reduced the radius from 30 degrees (from the data server) to 15 degrees. This means we had to also provide the RA and DEC values (rather than using INDEF). The science tools use a position keyword that includes all three values. If you declare one, you have to declare them all.\n",
    "* We used a slightly different position from the one used in the data server.  This is fine if you are reducing the radius. WARNING: if you don't reduce the radius, you should use INDEF for all the parameters (RA, DEC, Radius) to avoid offsetting your circle and ending up with a sliver of sky without data.\n"
   ]
  },
  {
   "cell_type": "markdown",
   "metadata": {},
   "source": [
    "You can run all the analysis tools on the command line, as above. However, in python, it's (obviously) easier to run using a python version of the science tools. I'm going to run this using the python toolset called *[gtapps](http://fermi.gsfc.nasa.gov/ssc/data/analysis/user/gtapps_mp_README.txt)*.\n",
    "\n",
    "In python, this same call to getselect would look like this:"
   ]
  },
  {
   "cell_type": "code",
   "execution_count": 42,
   "metadata": {},
   "outputs": [
    {
     "data": {
      "text/plain": [
       "' infile= \\'/Users/87steven/Documents/ASIAA/Blazar SED code and data/Fermi_all_sky_survey_data/J2158-3013/events.txt\\'  outfile= \\'/Users/87steven/Documents/ASIAA/Blazar SED code and data/Fermi_all_sky_survey_data/J2158-3013/filtered.fits\\'  ra=0.272042 dec=-15.851939 rad=1.0 tmin=\"INDEF\" tmax=\"INDEF\" emin=100.0 emax=300000.0 zmin=0.0 zmax=90.0 evclass=128 evtype=3 convtype=-1 phasemin=0.0 phasemax=1.0 evtable=\"EVENTS\" chatter=2 clobber=yes debug=no gui=no mode=\"ql\"'"
      ]
     },
     "execution_count": 42,
     "metadata": {},
     "output_type": "execute_result"
    }
   ],
   "source": [
    "import gt_apps\n",
    "from gt_apps import filter\n",
    "filter.pars()\n",
    "\n"
   ]
  },
  {
   "cell_type": "code",
   "execution_count": 44,
   "metadata": {},
   "outputs": [],
   "source": [
    "infile = \" '/Users/87steven/Documents/ASIAA/Blazar SED code and data/Fermi_all_sky_survey_data/J2158-3013/events.txt' \"\n",
    "outfile = \" '/Users/87steven/Documents/ASIAA/Blazar SED code and data/Fermi_all_sky_survey_data/J2158-3013/filtered.fits' \"\n",
    "\n",
    "filter['infile'] = \" '/Users/87steven/Documents/ASIAA/Blazar SED code and data/Fermi_all_sky_survey_data/J2158-3013/events.txt' \"\n",
    "filter['outfile'] = outfile\n",
    "filter['ra'] = 329.716958  ### seaching coordiante\n",
    "filter['dec'] = -30.225578\n",
    "filter['rad'] = 1   ### searching radius\n",
    "filter['tmin'] = 'INDEF'\n",
    "filter['tmax'] = 'INDEF'\n",
    "filter['emin'] = 100    ### lower bound energy range\n",
    "filter['emax'] = 300000   ### higher bound energy range\n",
    "filter['zmax'] = 90   ### maximum zenith angle\n",
    "filter['evclass'] = 128 ### 128 means \"Galactic point source\" & \"off-plane point source\" & \"galactic diffuse source\"\n",
    "filter['evtype'] = 3\n",
    "\n"
   ]
  },
  {
   "cell_type": "markdown",
   "metadata": {},
   "source": [
    "You can check what the command will look like before you run it. This is also useful for logging, and when building scripts."
   ]
  },
  {
   "cell_type": "code",
   "execution_count": 45,
   "metadata": {},
   "outputs": [
    {
     "data": {
      "text/plain": [
       "'time -p gtselect infile= \\'/Users/87steven/Documents/ASIAA/Blazar SED code and data/Fermi_all_sky_survey_data/J2158-3013/events.txt\\'  outfile= \\'/Users/87steven/Documents/ASIAA/Blazar SED code and data/Fermi_all_sky_survey_data/J2158-3013/filtered.fits\\'  ra=329.716958 dec=-30.225578 rad=1.0 tmin=\"INDEF\" tmax=\"INDEF\" emin=100.0 emax=300000.0 zmin=0.0 zmax=90.0 evclass=128 evtype=3 convtype=-1 phasemin=0.0 phasemax=1.0 evtable=\"EVENTS\" chatter=2 clobber=yes debug=no gui=no mode=\"ql\"'"
      ]
     },
     "execution_count": 45,
     "metadata": {},
     "output_type": "execute_result"
    }
   ],
   "source": [
    "### print out command selection, will not run command\n",
    "filter.command()\n",
    "\n"
   ]
  },
  {
   "cell_type": "code",
   "execution_count": 46,
   "metadata": {},
   "outputs": [
    {
     "name": "stdout",
     "output_type": "stream",
     "text": [
      "time -p gtselect infile= '/Users/87steven/Documents/ASIAA/Blazar SED code and data/Fermi_all_sky_survey_data/J2158-3013/events.txt'  outfile= '/Users/87steven/Documents/ASIAA/Blazar SED code and data/Fermi_all_sky_survey_data/J2158-3013/filtered.fits'  ra=329.716958 dec=-30.225578 rad=1.0 tmin=\"INDEF\" tmax=\"INDEF\" emin=100.0 emax=300000.0 zmin=0.0 zmax=90.0 evclass=128 evtype=3 convtype=-1 phasemin=0.0 phasemax=1.0 evtable=\"EVENTS\" chatter=2 clobber=yes debug=no gui=no mode=\"ql\"\n",
      "Done.\n",
      "real 0.17\n",
      "user 0.08\n",
      "sys 0.02\n"
     ]
    }
   ],
   "source": [
    "### run the command\n",
    "filter.run()\n",
    "\n"
   ]
  },
  {
   "cell_type": "markdown",
   "metadata": {},
   "source": [
    "If you tried to compute an exposure map later on you'd get a nasty error and I'd get a help desk message from you.\n",
    "\n",
    "The Filtered Data\n",
    "-----------------\n",
    "\n",
    "timeline of the tutorial vedio: 28:45\n",
    "\n",
    "Let's take a look at what we have."
   ]
  },
  {
   "cell_type": "code",
   "execution_count": 47,
   "metadata": {},
   "outputs": [],
   "source": [
    "filtered_data = pyfits.open('/Users/87steven/Documents/ASIAA/Blazar SED code and data/Fermi_all_sky_survey_data/J2158-3013/filtered.fits')\n",
    "\n"
   ]
  },
  {
   "cell_type": "code",
   "execution_count": 48,
   "metadata": {},
   "outputs": [
    {
     "name": "stdout",
     "output_type": "stream",
     "text": [
      "Filename: /Users/87steven/Documents/ASIAA/Blazar SED code and data/Fermi_all_sky_survey_data/J2158-3013/filtered.fits\n",
      "No.    Name      Ver    Type      Cards   Dimensions   Format\n",
      "  0  PRIMARY       1 PrimaryHDU      31   ()      \n",
      "  1  EVENTS        1 BinTableHDU    220   546R x 23C   [E, E, E, E, E, E, E, E, E, D, J, J, I, 3I, 32X, 32X, I, D, E, E, E, E, E]   \n",
      "  2  GTI           1 BinTableHDU     46   2396R x 2C   [D, D]   \n"
     ]
    }
   ],
   "source": [
    "filtered_data.info()\n",
    "\n"
   ]
  },
  {
   "cell_type": "markdown",
   "metadata": {},
   "source": [
    "Notice in the dimensions that we now have 101,844 events in the combined event file.  This is quite a reduction from the 569k events returned by the query.  Lots of events have been filtered out.  \n",
    "\n",
    "The next thing to do is to make sure we update the good time interval (the GTI) column using the recommended GTI filters.  These can also be found on the [recommendations and good practices](http://fermi.gsfc.nasa.gov/ssc/data/analysis/documentation/Cicerone/Cicerone_Data_Exploration/Data_preparation.html).  Here's the relevant table:"
   ]
  },
  {
   "cell_type": "markdown",
   "metadata": {},
   "source": [
    "![Maketime_recommendations](images/Maketime_recommendations.png)"
   ]
  },
  {
   "cell_type": "markdown",
   "metadata": {},
   "source": [
    "> ** NOTE: For analyses where an ROI-based zenith cut is NOT performed, an exposure correction must be made using the \"zmax\" option in the <a href=\"/ssc/data/analysis/scitools/help/gtltcube.txt\">gtltcube</a> tool.**\n",
    "                \n",
    "So, the relevant column here is the last one; these filters are just filtering on columns in the spacecraft file we looked at before.  We do this via the *[gtmktime](http://fermi.gsfc.nasa.gov/ssc/data/analysis/scitools/help/gtmktime.txt)* command, which is called **maketime** in *gtapps*:  "
   ]
  },
  {
   "cell_type": "code",
   "execution_count": 52,
   "metadata": {},
   "outputs": [
    {
     "name": "stdout",
     "output_type": "stream",
     "text": [
      "time -p gtmktime scfile= '/Users/87steven/Documents/ASIAA/Blazar SED code and data/Fermi_all_sky_survey_data/J2158-3013/SC00.fits'  sctable=\"SC_DATA\" filter=\"DATA_QUAL > 0 && LAT_CONFIG == 1\" roicut=no evfile= '/Users/87steven/Documents/ASIAA/Blazar SED code and data/Fermi_all_sky_survey_data/J2158-3013/filtered.fits'  evtable=\"EVENTS\" outfile=\"/Users/87steven/Documents/ASIAA/Blazar SED code and data/Fermi_all_sky_survey_data/J2158-3013/binned_gti.fits\" apply_filter=yes overwrite=no header_obstimes=yes tstart=0.0 tstop=0.0 gtifile=\"default\" chatter=2 clobber=yes debug=no gui=no mode=\"ql\"\n",
      "real 0.96\n",
      "user 0.78\n",
      "sys 0.07\n"
     ]
    }
   ],
   "source": [
    "from gt_apps import maketime\n",
    "\n",
    "scfile = \" '/Users/87steven/Documents/ASIAA/Blazar SED code and data/Fermi_all_sky_survey_data/J2158-3013/SC00.fits' \"\n",
    "evfile = \" '/Users/87steven/Documents/ASIAA/Blazar SED code and data/Fermi_all_sky_survey_data/J2158-3013/filtered.fits' \"\n",
    "outfile = '/Users/87steven/Documents/ASIAA/Blazar SED code and data/Fermi_all_sky_survey_data/J2158-3013/binned_gti.fits' \n",
    "\n",
    "maketime['evfile'] = evfile\n",
    "maketime['outfile'] =  outfile\n",
    "maketime['scfile'] = scfile\n",
    "maketime['filter'] = \"DATA_QUAL > 0 && LAT_CONFIG == 1\"\n",
    "maketime['apply_filter'] = 'yes'\n",
    "maketime['roicut'] = 'no'\n",
    "maketime.run()\n"
   ]
  },
  {
   "cell_type": "markdown",
   "metadata": {},
   "source": [
    "Some things to note here:\n",
    "\n",
    "* We gave it the spacecraft file as input (this makes sense).\n",
    "* We said 'no' to the ROI-based zenith angle cut, as that was the recommendation in the table. This means we will need to apply a zmax cut in *gtltcube* instead.\n",
    "* Had we said 'yes' to the ROI-based zenith cut, maketime would have made this cut: \"angsep(RA_ZENITH,DEC_ZENITH,RA_ROI,DEC_ROI) < ZMAX - ROI_RADIUS\". This just cuts out periods when your ROI is close to the zenith and away from the Earth's limb.\n",
    "\n",
    "Now what do we have..."
   ]
  },
  {
   "cell_type": "code",
   "execution_count": 53,
   "metadata": {},
   "outputs": [
    {
     "name": "stdout",
     "output_type": "stream",
     "text": [
      "Filename: /Users/87steven/Documents/ASIAA/Blazar SED code and data/Fermi_all_sky_survey_data/J2158-3013/filtered.fits\n",
      "No.    Name      Ver    Type      Cards   Dimensions   Format\n",
      "  0  PRIMARY       1 PrimaryHDU      31   ()      \n",
      "  1  EVENTS        1 BinTableHDU    220   546R x 23C   [E, E, E, E, E, E, E, E, E, D, J, J, I, 3I, 32X, 32X, I, D, E, E, E, E, E]   \n",
      "  2  GTI           1 BinTableHDU     46   2396R x 2C   [D, D]   \n"
     ]
    }
   ],
   "source": [
    "filtered_data.info()\n",
    "\n"
   ]
  },
  {
   "cell_type": "code",
   "execution_count": 54,
   "metadata": {},
   "outputs": [
    {
     "name": "stdout",
     "output_type": "stream",
     "text": [
      "Filename: /Users/87steven/Documents/ASIAA/Blazar SED code and data/Fermi_all_sky_survey_data/J2158-3013/mktime.fits\n",
      "No.    Name      Ver    Type      Cards   Dimensions   Format\n",
      "  0  PRIMARY       1 PrimaryHDU      31   ()      \n",
      "  1  EVENTS        1 BinTableHDU    225   546R x 23C   [E, E, E, E, E, E, E, E, E, D, J, J, I, 3I, 32X, 32X, I, D, E, E, E, E, E]   \n",
      "  2  GTI           1 BinTableHDU     46   2397R x 2C   [D, D]   \n"
     ]
    }
   ],
   "source": [
    "mktime_data = pyfits.open('/Users/87steven/Documents/ASIAA/Blazar SED code and data/Fermi_all_sky_survey_data/J2158-3013/mktime.fits')\n",
    "mktime_data.info()\n",
    "\n"
   ]
  },
  {
   "cell_type": "markdown",
   "metadata": {},
   "source": [
    "You can see that the maketime command did not actually remove any events. This means that the bad times we saw early on in the spacecraft file were not associated with periods when the LAT was taking data.   "
   ]
  },
  {
   "cell_type": "markdown",
   "metadata": {},
   "source": [
    "### Things to think about when making data selections\n",
    "\n",
    "* What scientific question am I trying to answer?\n",
    "    * Am I looking at a point source?\n",
    "    * What spectral shape do I expect (hard spectral shapes could benefit from a higher low-energy cut).\n",
    "    * Is this a short timescale event (~200 s, like a GRB)?\n",
    "    * Am I interested in a small region or the whole sky?\n",
    "    * Is the region close to the galactic plane (here lies analysis dragons, might want to raise the energy threshold, make your ROI smaller)\n",
    "\n",
    "**Always double check the recommended cuts, especially after a data/software release.**  Don't hesitate to ask the FSSC for advice.  We are working scientists and have proably run into the types of problems you are seeing. And if we can't, we can always contact the software developers.\n",
    "\n",
    "fermihelp@milkyway.gsfc.nasa.gov\n",
    "\n",
    "To take a quick look at the data, try going through the next tutorial, DATA_Quicklook.ipynb"
   ]
  },
  {
   "cell_type": "markdown",
   "metadata": {},
   "source": [
    "## What would you like to do with Fermi data?"
   ]
  },
  {
   "cell_type": "code",
   "execution_count": null,
   "metadata": {},
   "outputs": [],
   "source": []
  }
 ],
 "metadata": {
  "kernelspec": {
   "display_name": "Python 3 (ipykernel)",
   "language": "python",
   "name": "python3"
  },
  "language_info": {
   "codemirror_mode": {
    "name": "ipython",
    "version": 3
   },
   "file_extension": ".py",
   "mimetype": "text/x-python",
   "name": "python",
   "nbconvert_exporter": "python",
   "pygments_lexer": "ipython3",
   "version": "3.9.15"
  }
 },
 "nbformat": 4,
 "nbformat_minor": 4
}
